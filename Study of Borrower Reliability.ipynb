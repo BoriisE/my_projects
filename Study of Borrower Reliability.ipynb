{
  "metadata": {
    "kernelspec": {
      "name": "python",
      "display_name": "Python (Pyodide)",
      "language": "python"
    },
    "language_info": {
      "codemirror_mode": {
        "name": "python",
        "version": 3
      },
      "file_extension": ".py",
      "mimetype": "text/x-python",
      "name": "python",
      "nbconvert_exporter": "python",
      "pygments_lexer": "ipython3",
      "version": "3.8"
    },
    "ExecuteTimeLog": [
      {
        "duration": 59,
        "start_time": "2025-04-29T22:39:57.646Z"
      },
      {
        "duration": 481,
        "start_time": "2025-04-29T22:40:12.394Z"
      },
      {
        "duration": 38,
        "start_time": "2025-04-29T22:40:13.780Z"
      },
      {
        "duration": 17,
        "start_time": "2025-04-29T22:40:15.050Z"
      },
      {
        "duration": 17,
        "start_time": "2025-04-29T22:40:16.080Z"
      },
      {
        "duration": 39,
        "start_time": "2025-04-29T22:40:16.411Z"
      },
      {
        "duration": 6,
        "start_time": "2025-04-29T22:40:16.886Z"
      },
      {
        "duration": 8,
        "start_time": "2025-04-29T22:40:17.221Z"
      },
      {
        "duration": 4,
        "start_time": "2025-04-29T22:40:17.700Z"
      },
      {
        "duration": 7,
        "start_time": "2025-04-29T22:40:18.037Z"
      },
      {
        "duration": 4,
        "start_time": "2025-04-29T22:40:18.362Z"
      },
      {
        "duration": 46,
        "start_time": "2025-04-29T22:40:18.858Z"
      },
      {
        "duration": 10,
        "start_time": "2025-04-29T22:40:19.197Z"
      },
      {
        "duration": 4,
        "start_time": "2025-04-29T22:40:19.730Z"
      },
      {
        "duration": 18,
        "start_time": "2025-04-29T22:40:20.269Z"
      },
      {
        "duration": 20,
        "start_time": "2025-04-29T22:40:20.633Z"
      },
      {
        "duration": 17,
        "start_time": "2025-04-29T22:40:20.794Z"
      },
      {
        "duration": 3,
        "start_time": "2025-04-29T22:40:21.323Z"
      },
      {
        "duration": 10,
        "start_time": "2025-04-29T22:40:21.504Z"
      },
      {
        "duration": 6,
        "start_time": "2025-04-29T22:40:21.860Z"
      },
      {
        "duration": 3,
        "start_time": "2025-04-29T22:40:22.234Z"
      },
      {
        "duration": 9,
        "start_time": "2025-04-29T22:40:22.420Z"
      },
      {
        "duration": 2,
        "start_time": "2025-04-29T22:40:23.027Z"
      },
      {
        "duration": 8,
        "start_time": "2025-04-29T22:40:52.738Z"
      },
      {
        "duration": 3,
        "start_time": "2025-04-29T22:44:02.948Z"
      },
      {
        "duration": 31,
        "start_time": "2025-04-29T23:11:24.164Z"
      },
      {
        "duration": 14,
        "start_time": "2025-04-29T23:12:20.243Z"
      },
      {
        "duration": 18,
        "start_time": "2025-04-29T23:12:41.568Z"
      },
      {
        "duration": 14,
        "start_time": "2025-04-29T23:14:03.904Z"
      },
      {
        "duration": 17,
        "start_time": "2025-04-29T23:17:13.369Z"
      },
      {
        "duration": 18,
        "start_time": "2025-04-29T23:18:18.480Z"
      },
      {
        "duration": 14,
        "start_time": "2025-04-29T23:18:42.103Z"
      },
      {
        "duration": 11,
        "start_time": "2025-04-29T23:41:40.852Z"
      },
      {
        "duration": 16,
        "start_time": "2025-04-29T23:41:56.860Z"
      },
      {
        "duration": 18,
        "start_time": "2025-04-29T23:42:34.431Z"
      },
      {
        "duration": 17,
        "start_time": "2025-04-29T23:45:02.600Z"
      },
      {
        "duration": 19,
        "start_time": "2025-04-29T23:46:18.166Z"
      },
      {
        "duration": 15,
        "start_time": "2025-04-30T00:40:44.138Z"
      },
      {
        "duration": 17,
        "start_time": "2025-04-30T00:41:53.497Z"
      },
      {
        "duration": 19,
        "start_time": "2025-04-30T00:43:38.651Z"
      },
      {
        "duration": 19,
        "start_time": "2025-04-30T00:49:54.280Z"
      },
      {
        "duration": 14,
        "start_time": "2025-04-30T00:52:16.804Z"
      },
      {
        "duration": 503,
        "start_time": "2025-04-30T13:13:36.970Z"
      },
      {
        "duration": 23,
        "start_time": "2025-04-30T13:13:37.474Z"
      },
      {
        "duration": 15,
        "start_time": "2025-04-30T13:13:37.498Z"
      },
      {
        "duration": 70,
        "start_time": "2025-04-30T13:13:37.514Z"
      },
      {
        "duration": 35,
        "start_time": "2025-04-30T13:13:37.586Z"
      },
      {
        "duration": 3,
        "start_time": "2025-04-30T13:13:37.623Z"
      },
      {
        "duration": 28,
        "start_time": "2025-04-30T13:13:37.627Z"
      },
      {
        "duration": 20,
        "start_time": "2025-04-30T13:13:37.657Z"
      },
      {
        "duration": 22,
        "start_time": "2025-04-30T13:13:37.679Z"
      },
      {
        "duration": 5,
        "start_time": "2025-04-30T13:13:37.703Z"
      },
      {
        "duration": 48,
        "start_time": "2025-04-30T13:13:37.710Z"
      },
      {
        "duration": 9,
        "start_time": "2025-04-30T13:13:37.759Z"
      },
      {
        "duration": 5,
        "start_time": "2025-04-30T13:13:37.770Z"
      },
      {
        "duration": 14,
        "start_time": "2025-04-30T13:13:37.776Z"
      },
      {
        "duration": 19,
        "start_time": "2025-04-30T13:13:37.791Z"
      },
      {
        "duration": 28,
        "start_time": "2025-04-30T13:13:37.811Z"
      },
      {
        "duration": 4,
        "start_time": "2025-04-30T13:13:37.840Z"
      },
      {
        "duration": 12,
        "start_time": "2025-04-30T13:13:37.845Z"
      },
      {
        "duration": 5,
        "start_time": "2025-04-30T13:13:37.858Z"
      },
      {
        "duration": 8,
        "start_time": "2025-04-30T13:13:37.865Z"
      },
      {
        "duration": 36,
        "start_time": "2025-04-30T13:13:37.875Z"
      },
      {
        "duration": 15,
        "start_time": "2025-04-30T13:13:37.913Z"
      },
      {
        "duration": 17,
        "start_time": "2025-04-30T13:13:37.930Z"
      },
      {
        "duration": 15,
        "start_time": "2025-04-30T13:13:37.948Z"
      },
      {
        "duration": 16,
        "start_time": "2025-04-30T13:13:37.964Z"
      },
      {
        "duration": 47,
        "start_time": "2025-04-30T22:30:54.988Z"
      },
      {
        "duration": 418,
        "start_time": "2025-04-30T22:32:22.574Z"
      },
      {
        "duration": 7,
        "start_time": "2025-04-30T22:32:23.813Z"
      },
      {
        "duration": 7,
        "start_time": "2025-04-30T22:32:32.283Z"
      },
      {
        "duration": 8,
        "start_time": "2025-04-30T22:32:44.977Z"
      },
      {
        "duration": 6,
        "start_time": "2025-04-30T22:32:47.381Z"
      },
      {
        "duration": 6,
        "start_time": "2025-04-30T22:32:52.252Z"
      },
      {
        "duration": 477,
        "start_time": "2025-05-01T09:33:51.447Z"
      },
      {
        "duration": 0,
        "start_time": "2025-05-01T09:33:51.926Z"
      },
      {
        "duration": 0,
        "start_time": "2025-05-01T09:33:51.928Z"
      },
      {
        "duration": 0,
        "start_time": "2025-05-01T09:33:51.929Z"
      },
      {
        "duration": 0,
        "start_time": "2025-05-01T09:33:51.930Z"
      },
      {
        "duration": 0,
        "start_time": "2025-05-01T09:33:51.936Z"
      },
      {
        "duration": 0,
        "start_time": "2025-05-01T09:33:51.937Z"
      },
      {
        "duration": 0,
        "start_time": "2025-05-01T09:33:51.938Z"
      },
      {
        "duration": 0,
        "start_time": "2025-05-01T09:33:51.940Z"
      },
      {
        "duration": 0,
        "start_time": "2025-05-01T09:33:51.941Z"
      },
      {
        "duration": 0,
        "start_time": "2025-05-01T09:33:51.942Z"
      },
      {
        "duration": 0,
        "start_time": "2025-05-01T09:33:51.944Z"
      },
      {
        "duration": 0,
        "start_time": "2025-05-01T09:33:51.945Z"
      },
      {
        "duration": 0,
        "start_time": "2025-05-01T09:33:51.946Z"
      },
      {
        "duration": 0,
        "start_time": "2025-05-01T09:33:51.947Z"
      },
      {
        "duration": 0,
        "start_time": "2025-05-01T09:33:51.948Z"
      },
      {
        "duration": 0,
        "start_time": "2025-05-01T09:33:51.949Z"
      },
      {
        "duration": 0,
        "start_time": "2025-05-01T09:33:51.950Z"
      },
      {
        "duration": 0,
        "start_time": "2025-05-01T09:33:51.951Z"
      },
      {
        "duration": 0,
        "start_time": "2025-05-01T09:33:51.952Z"
      },
      {
        "duration": 0,
        "start_time": "2025-05-01T09:33:51.953Z"
      },
      {
        "duration": 0,
        "start_time": "2025-05-01T09:33:51.954Z"
      },
      {
        "duration": 0,
        "start_time": "2025-05-01T09:33:51.955Z"
      },
      {
        "duration": 0,
        "start_time": "2025-05-01T09:33:51.957Z"
      },
      {
        "duration": 0,
        "start_time": "2025-05-01T09:33:51.958Z"
      },
      {
        "duration": 573,
        "start_time": "2025-05-12T12:58:03.391Z"
      },
      {
        "duration": 27,
        "start_time": "2025-05-12T12:58:13.768Z"
      },
      {
        "duration": 19,
        "start_time": "2025-05-12T12:58:16.132Z"
      },
      {
        "duration": 13,
        "start_time": "2025-05-12T12:58:19.020Z"
      },
      {
        "duration": 61,
        "start_time": "2025-05-12T12:58:20.492Z"
      },
      {
        "duration": 5,
        "start_time": "2025-05-12T12:58:22.687Z"
      },
      {
        "duration": 10,
        "start_time": "2025-05-12T12:58:24.100Z"
      },
      {
        "duration": 7,
        "start_time": "2025-05-12T12:58:26.108Z"
      },
      {
        "duration": 9,
        "start_time": "2025-05-12T12:58:27.396Z"
      },
      {
        "duration": 6,
        "start_time": "2025-05-12T12:58:28.772Z"
      },
      {
        "duration": 51,
        "start_time": "2025-05-12T12:58:30.904Z"
      },
      {
        "duration": 18,
        "start_time": "2025-05-12T12:58:32.373Z"
      },
      {
        "duration": 5,
        "start_time": "2025-05-12T12:58:34.524Z"
      },
      {
        "duration": 15,
        "start_time": "2025-05-12T12:58:36.832Z"
      },
      {
        "duration": 32,
        "start_time": "2025-05-12T12:58:38.201Z"
      },
      {
        "duration": 20,
        "start_time": "2025-05-12T12:58:38.948Z"
      },
      {
        "duration": 5,
        "start_time": "2025-05-12T12:58:42.147Z"
      },
      {
        "duration": 19,
        "start_time": "2025-05-12T12:58:43.048Z"
      },
      {
        "duration": 6,
        "start_time": "2025-05-12T12:58:44.556Z"
      },
      {
        "duration": 5,
        "start_time": "2025-05-12T12:58:47.448Z"
      },
      {
        "duration": 12,
        "start_time": "2025-05-12T12:58:48.217Z"
      },
      {
        "duration": 27,
        "start_time": "2025-05-12T12:58:51.336Z"
      },
      {
        "duration": 30,
        "start_time": "2025-05-12T13:01:28.645Z"
      },
      {
        "duration": 31,
        "start_time": "2025-05-12T13:01:40.233Z"
      },
      {
        "duration": 23,
        "start_time": "2025-05-12T13:01:54.948Z"
      },
      {
        "duration": 127,
        "start_time": "2025-05-12T13:13:58.221Z"
      },
      {
        "duration": 39,
        "start_time": "2025-05-12T13:14:07.393Z"
      },
      {
        "duration": 33,
        "start_time": "2025-05-12T13:20:07.788Z"
      },
      {
        "duration": 30,
        "start_time": "2025-05-12T13:20:43.116Z"
      },
      {
        "duration": 45,
        "start_time": "2025-05-12T13:24:53.802Z"
      },
      {
        "duration": 483,
        "start_time": "2025-05-12T19:33:55.771Z"
      },
      {
        "duration": 26,
        "start_time": "2025-05-12T19:33:56.256Z"
      },
      {
        "duration": 18,
        "start_time": "2025-05-12T19:33:56.284Z"
      },
      {
        "duration": 39,
        "start_time": "2025-05-12T19:33:56.304Z"
      },
      {
        "duration": 41,
        "start_time": "2025-05-12T19:33:56.350Z"
      },
      {
        "duration": 3,
        "start_time": "2025-05-12T19:33:56.393Z"
      },
      {
        "duration": 12,
        "start_time": "2025-05-12T19:33:56.398Z"
      },
      {
        "duration": 4,
        "start_time": "2025-05-12T19:33:56.412Z"
      },
      {
        "duration": 15,
        "start_time": "2025-05-12T19:33:56.437Z"
      },
      {
        "duration": 5,
        "start_time": "2025-05-12T19:33:56.457Z"
      },
      {
        "duration": 43,
        "start_time": "2025-05-12T19:33:56.463Z"
      },
      {
        "duration": 35,
        "start_time": "2025-05-12T19:33:56.508Z"
      },
      {
        "duration": 10,
        "start_time": "2025-05-12T19:33:56.544Z"
      },
      {
        "duration": 33,
        "start_time": "2025-05-12T19:33:56.559Z"
      },
      {
        "duration": 26,
        "start_time": "2025-05-12T19:33:56.594Z"
      },
      {
        "duration": 25,
        "start_time": "2025-05-12T19:33:56.623Z"
      },
      {
        "duration": 5,
        "start_time": "2025-05-12T19:33:56.652Z"
      },
      {
        "duration": 12,
        "start_time": "2025-05-12T19:33:56.659Z"
      },
      {
        "duration": 6,
        "start_time": "2025-05-12T19:33:56.674Z"
      },
      {
        "duration": 8,
        "start_time": "2025-05-12T19:33:56.682Z"
      },
      {
        "duration": 113,
        "start_time": "2025-05-12T19:33:56.692Z"
      },
      {
        "duration": 40,
        "start_time": "2025-05-12T19:33:56.807Z"
      },
      {
        "duration": 31,
        "start_time": "2025-05-12T19:33:56.849Z"
      },
      {
        "duration": 27,
        "start_time": "2025-05-12T19:33:56.881Z"
      },
      {
        "duration": 56,
        "start_time": "2025-05-12T19:33:56.909Z"
      }
    ],
    "colab": {
      "name": "dpp_template_part2.ipynb",
      "provenance": []
    },
    "toc": {
      "base_numbering": 1,
      "nav_menu": {},
      "number_sections": true,
      "sideBar": true,
      "skip_h1_title": true,
      "title_cell": "Table of Contents",
      "title_sidebar": "Contents",
      "toc_cell": false,
      "toc_position": {
        "height": "calc(100% - 180px)",
        "left": "10px",
        "top": "150px",
        "width": "241.580872px"
      },
      "toc_section_display": true,
      "toc_window_display": true
    }
  },
  "nbformat_minor": 5,
  "nbformat": 4,
  "cells": [
    {
      "id": "49e27588",
      "cell_type": "markdown",
      "source": "# Study of Borrower Reliability\n",
      "metadata": {
        "deletable": false,
        "editable": false,
        "id": "c81daeeb"
      }
    },
    {
      "id": "dfdb91e3",
      "cell_type": "markdown",
      "source": "## Let's open the table and explore the general information about the data.",
      "metadata": {
        "deletable": false,
        "editable": false,
        "id": "744d7639"
      }
    },
    {
      "id": "a03bcde1",
      "cell_type": "markdown",
      "source": "**Let's import the pandas library, read the data from the CSV file into a DataFrame, and store it in the variable `data`. File path:**\n\n`/datasets/data.csv`",
      "metadata": {
        "deletable": false,
        "editable": false,
        "id": "e7a14c31"
      }
    },
    {
      "id": "0788885f",
      "cell_type": "code",
      "source": "import pandas as pd\n\ntry:\n    data = pd.read_csv('data.csv')\nexcept:\n    data = pd.read_csv('https://code.s3.yandex.net/datasets/data.csv')",
      "metadata": {
        "deletable": false,
        "id": "7bcf75c9",
        "scrolled": true,
        "trusted": true
      },
      "outputs": [],
      "execution_count": 52
    },
    {
      "id": "7f631083",
      "cell_type": "markdown",
      "source": "**Let's display the first 20 rows of the DataFrame `data` on the screen.**",
      "metadata": {
        "deletable": false,
        "editable": false,
        "id": "b8038fe3"
      }
    },
    {
      "id": "55923fab",
      "cell_type": "code",
      "source": "data.head(20)",
      "metadata": {
        "deletable": false,
        "id": "2a7cab99",
        "outputId": "1a8f3ef2-d323-4ec2-ddf7-89670b5944c4",
        "trusted": true
      },
      "outputs": [
        {
          "execution_count": 28,
          "output_type": "execute_result",
          "data": {
            "text/plain": "    children  days_employed  dob_years            education  education_id  \\\n0          1   -8437.673028         42               высшее             0   \n1          1   -4024.803754         36              среднее             1   \n2          0   -5623.422610         33              Среднее             1   \n3          3   -4124.747207         32              среднее             1   \n4          0  340266.072047         53              среднее             1   \n5          0    -926.185831         27               высшее             0   \n6          0   -2879.202052         43               высшее             0   \n7          0    -152.779569         50              СРЕДНЕЕ             1   \n8          2   -6929.865299         35               ВЫСШЕЕ             0   \n9          0   -2188.756445         41              среднее             1   \n10         2   -4171.483647         36               высшее             0   \n11         0    -792.701887         40              среднее             1   \n12         0            NaN         65              среднее             1   \n13         0   -1846.641941         54  неоконченное высшее             2   \n14         0   -1844.956182         56               высшее             0   \n15         1    -972.364419         26              среднее             1   \n16         0   -1719.934226         35              среднее             1   \n17         0   -2369.999720         33               высшее             0   \n18         0  400281.136913         53              среднее             1   \n19         0  -10038.818549         48              СРЕДНЕЕ             1   \n\n       family_status  family_status_id gender income_type  debt  \\\n0    женат / замужем                 0      F   сотрудник     0   \n1    женат / замужем                 0      F   сотрудник     0   \n2    женат / замужем                 0      M   сотрудник     0   \n3    женат / замужем                 0      M   сотрудник     0   \n4   гражданский брак                 1      F   пенсионер     0   \n5   гражданский брак                 1      M   компаньон     0   \n6    женат / замужем                 0      F   компаньон     0   \n7    женат / замужем                 0      M   сотрудник     0   \n8   гражданский брак                 1      F   сотрудник     0   \n9    женат / замужем                 0      M   сотрудник     0   \n10   женат / замужем                 0      M   компаньон     0   \n11   женат / замужем                 0      F   сотрудник     0   \n12  гражданский брак                 1      M   пенсионер     0   \n13   женат / замужем                 0      F   сотрудник     0   \n14  гражданский брак                 1      F   компаньон     1   \n15   женат / замужем                 0      F   сотрудник     0   \n16   женат / замужем                 0      F   сотрудник     0   \n17  гражданский брак                 1      M   сотрудник     0   \n18    вдовец / вдова                 2      F   пенсионер     0   \n19         в разводе                 3      F   сотрудник     0   \n\n     total_income                                 purpose  \n0   253875.639453                           покупка жилья  \n1   112080.014102                 приобретение автомобиля  \n2   145885.952297                           покупка жилья  \n3   267628.550329              дополнительное образование  \n4   158616.077870                         сыграть свадьбу  \n5   255763.565419                           покупка жилья  \n6   240525.971920                       операции с жильем  \n7   135823.934197                             образование  \n8    95856.832424                   на проведение свадьбы  \n9   144425.938277                 покупка жилья для семьи  \n10  113943.491460                    покупка недвижимости  \n11   77069.234271       покупка коммерческой недвижимости  \n12            NaN                         сыграть свадьбу  \n13  130458.228857                 приобретение автомобиля  \n14  165127.911772              покупка жилой недвижимости  \n15  116820.904450  строительство собственной недвижимости  \n16  289202.704229                            недвижимость  \n17   90410.586745              строительство недвижимости  \n18   56823.777243      на покупку подержанного автомобиля  \n19  242831.107982            на покупку своего автомобиля  ",
            "text/html": "<div>\n<style scoped>\n    .dataframe tbody tr th:only-of-type {\n        vertical-align: middle;\n    }\n\n    .dataframe tbody tr th {\n        vertical-align: top;\n    }\n\n    .dataframe thead th {\n        text-align: right;\n    }\n</style>\n<table border=\"1\" class=\"dataframe\">\n  <thead>\n    <tr style=\"text-align: right;\">\n      <th></th>\n      <th>children</th>\n      <th>days_employed</th>\n      <th>dob_years</th>\n      <th>education</th>\n      <th>education_id</th>\n      <th>family_status</th>\n      <th>family_status_id</th>\n      <th>gender</th>\n      <th>income_type</th>\n      <th>debt</th>\n      <th>total_income</th>\n      <th>purpose</th>\n    </tr>\n  </thead>\n  <tbody>\n    <tr>\n      <th>0</th>\n      <td>1</td>\n      <td>-8437.673028</td>\n      <td>42</td>\n      <td>высшее</td>\n      <td>0</td>\n      <td>женат / замужем</td>\n      <td>0</td>\n      <td>F</td>\n      <td>сотрудник</td>\n      <td>0</td>\n      <td>253875.639453</td>\n      <td>покупка жилья</td>\n    </tr>\n    <tr>\n      <th>1</th>\n      <td>1</td>\n      <td>-4024.803754</td>\n      <td>36</td>\n      <td>среднее</td>\n      <td>1</td>\n      <td>женат / замужем</td>\n      <td>0</td>\n      <td>F</td>\n      <td>сотрудник</td>\n      <td>0</td>\n      <td>112080.014102</td>\n      <td>приобретение автомобиля</td>\n    </tr>\n    <tr>\n      <th>2</th>\n      <td>0</td>\n      <td>-5623.422610</td>\n      <td>33</td>\n      <td>Среднее</td>\n      <td>1</td>\n      <td>женат / замужем</td>\n      <td>0</td>\n      <td>M</td>\n      <td>сотрудник</td>\n      <td>0</td>\n      <td>145885.952297</td>\n      <td>покупка жилья</td>\n    </tr>\n    <tr>\n      <th>3</th>\n      <td>3</td>\n      <td>-4124.747207</td>\n      <td>32</td>\n      <td>среднее</td>\n      <td>1</td>\n      <td>женат / замужем</td>\n      <td>0</td>\n      <td>M</td>\n      <td>сотрудник</td>\n      <td>0</td>\n      <td>267628.550329</td>\n      <td>дополнительное образование</td>\n    </tr>\n    <tr>\n      <th>4</th>\n      <td>0</td>\n      <td>340266.072047</td>\n      <td>53</td>\n      <td>среднее</td>\n      <td>1</td>\n      <td>гражданский брак</td>\n      <td>1</td>\n      <td>F</td>\n      <td>пенсионер</td>\n      <td>0</td>\n      <td>158616.077870</td>\n      <td>сыграть свадьбу</td>\n    </tr>\n    <tr>\n      <th>5</th>\n      <td>0</td>\n      <td>-926.185831</td>\n      <td>27</td>\n      <td>высшее</td>\n      <td>0</td>\n      <td>гражданский брак</td>\n      <td>1</td>\n      <td>M</td>\n      <td>компаньон</td>\n      <td>0</td>\n      <td>255763.565419</td>\n      <td>покупка жилья</td>\n    </tr>\n    <tr>\n      <th>6</th>\n      <td>0</td>\n      <td>-2879.202052</td>\n      <td>43</td>\n      <td>высшее</td>\n      <td>0</td>\n      <td>женат / замужем</td>\n      <td>0</td>\n      <td>F</td>\n      <td>компаньон</td>\n      <td>0</td>\n      <td>240525.971920</td>\n      <td>операции с жильем</td>\n    </tr>\n    <tr>\n      <th>7</th>\n      <td>0</td>\n      <td>-152.779569</td>\n      <td>50</td>\n      <td>СРЕДНЕЕ</td>\n      <td>1</td>\n      <td>женат / замужем</td>\n      <td>0</td>\n      <td>M</td>\n      <td>сотрудник</td>\n      <td>0</td>\n      <td>135823.934197</td>\n      <td>образование</td>\n    </tr>\n    <tr>\n      <th>8</th>\n      <td>2</td>\n      <td>-6929.865299</td>\n      <td>35</td>\n      <td>ВЫСШЕЕ</td>\n      <td>0</td>\n      <td>гражданский брак</td>\n      <td>1</td>\n      <td>F</td>\n      <td>сотрудник</td>\n      <td>0</td>\n      <td>95856.832424</td>\n      <td>на проведение свадьбы</td>\n    </tr>\n    <tr>\n      <th>9</th>\n      <td>0</td>\n      <td>-2188.756445</td>\n      <td>41</td>\n      <td>среднее</td>\n      <td>1</td>\n      <td>женат / замужем</td>\n      <td>0</td>\n      <td>M</td>\n      <td>сотрудник</td>\n      <td>0</td>\n      <td>144425.938277</td>\n      <td>покупка жилья для семьи</td>\n    </tr>\n    <tr>\n      <th>10</th>\n      <td>2</td>\n      <td>-4171.483647</td>\n      <td>36</td>\n      <td>высшее</td>\n      <td>0</td>\n      <td>женат / замужем</td>\n      <td>0</td>\n      <td>M</td>\n      <td>компаньон</td>\n      <td>0</td>\n      <td>113943.491460</td>\n      <td>покупка недвижимости</td>\n    </tr>\n    <tr>\n      <th>11</th>\n      <td>0</td>\n      <td>-792.701887</td>\n      <td>40</td>\n      <td>среднее</td>\n      <td>1</td>\n      <td>женат / замужем</td>\n      <td>0</td>\n      <td>F</td>\n      <td>сотрудник</td>\n      <td>0</td>\n      <td>77069.234271</td>\n      <td>покупка коммерческой недвижимости</td>\n    </tr>\n    <tr>\n      <th>12</th>\n      <td>0</td>\n      <td>NaN</td>\n      <td>65</td>\n      <td>среднее</td>\n      <td>1</td>\n      <td>гражданский брак</td>\n      <td>1</td>\n      <td>M</td>\n      <td>пенсионер</td>\n      <td>0</td>\n      <td>NaN</td>\n      <td>сыграть свадьбу</td>\n    </tr>\n    <tr>\n      <th>13</th>\n      <td>0</td>\n      <td>-1846.641941</td>\n      <td>54</td>\n      <td>неоконченное высшее</td>\n      <td>2</td>\n      <td>женат / замужем</td>\n      <td>0</td>\n      <td>F</td>\n      <td>сотрудник</td>\n      <td>0</td>\n      <td>130458.228857</td>\n      <td>приобретение автомобиля</td>\n    </tr>\n    <tr>\n      <th>14</th>\n      <td>0</td>\n      <td>-1844.956182</td>\n      <td>56</td>\n      <td>высшее</td>\n      <td>0</td>\n      <td>гражданский брак</td>\n      <td>1</td>\n      <td>F</td>\n      <td>компаньон</td>\n      <td>1</td>\n      <td>165127.911772</td>\n      <td>покупка жилой недвижимости</td>\n    </tr>\n    <tr>\n      <th>15</th>\n      <td>1</td>\n      <td>-972.364419</td>\n      <td>26</td>\n      <td>среднее</td>\n      <td>1</td>\n      <td>женат / замужем</td>\n      <td>0</td>\n      <td>F</td>\n      <td>сотрудник</td>\n      <td>0</td>\n      <td>116820.904450</td>\n      <td>строительство собственной недвижимости</td>\n    </tr>\n    <tr>\n      <th>16</th>\n      <td>0</td>\n      <td>-1719.934226</td>\n      <td>35</td>\n      <td>среднее</td>\n      <td>1</td>\n      <td>женат / замужем</td>\n      <td>0</td>\n      <td>F</td>\n      <td>сотрудник</td>\n      <td>0</td>\n      <td>289202.704229</td>\n      <td>недвижимость</td>\n    </tr>\n    <tr>\n      <th>17</th>\n      <td>0</td>\n      <td>-2369.999720</td>\n      <td>33</td>\n      <td>высшее</td>\n      <td>0</td>\n      <td>гражданский брак</td>\n      <td>1</td>\n      <td>M</td>\n      <td>сотрудник</td>\n      <td>0</td>\n      <td>90410.586745</td>\n      <td>строительство недвижимости</td>\n    </tr>\n    <tr>\n      <th>18</th>\n      <td>0</td>\n      <td>400281.136913</td>\n      <td>53</td>\n      <td>среднее</td>\n      <td>1</td>\n      <td>вдовец / вдова</td>\n      <td>2</td>\n      <td>F</td>\n      <td>пенсионер</td>\n      <td>0</td>\n      <td>56823.777243</td>\n      <td>на покупку подержанного автомобиля</td>\n    </tr>\n    <tr>\n      <th>19</th>\n      <td>0</td>\n      <td>-10038.818549</td>\n      <td>48</td>\n      <td>СРЕДНЕЕ</td>\n      <td>1</td>\n      <td>в разводе</td>\n      <td>3</td>\n      <td>F</td>\n      <td>сотрудник</td>\n      <td>0</td>\n      <td>242831.107982</td>\n      <td>на покупку своего автомобиля</td>\n    </tr>\n  </tbody>\n</table>\n</div>"
          },
          "metadata": {}
        }
      ],
      "execution_count": 28
    },
    {
      "id": "1d18fdf0",
      "cell_type": "markdown",
      "source": "**Let's display the basic information about the DataFrame using the `info()` method.**",
      "metadata": {
        "deletable": false,
        "editable": false,
        "id": "1c12e233"
      }
    },
    {
      "id": "4f4df7c0",
      "cell_type": "code",
      "source": "data.info()",
      "metadata": {
        "deletable": false,
        "id": "2b757bca",
        "outputId": "15376089-8dad-46c9-b520-c05248d43158",
        "trusted": true
      },
      "outputs": [
        {
          "name": "stdout",
          "output_type": "stream",
          "text": "<class 'pandas.core.frame.DataFrame'>\nRangeIndex: 21525 entries, 0 to 21524\nData columns (total 12 columns):\n #   Column            Non-Null Count  Dtype  \n---  ------            --------------  -----  \n 0   children          21525 non-null  int64  \n 1   days_employed     19351 non-null  float64\n 2   dob_years         21525 non-null  int64  \n 3   education         21525 non-null  object \n 4   education_id      21525 non-null  int64  \n 5   family_status     21525 non-null  object \n 6   family_status_id  21525 non-null  int64  \n 7   gender            21525 non-null  object \n 8   income_type       21525 non-null  object \n 9   debt              21525 non-null  int64  \n 10  total_income      19351 non-null  float64\n 11  purpose           21525 non-null  object \ndtypes: float64(2), int64(5), object(5)\nmemory usage: 1.6+ MB\n"
        }
      ],
      "execution_count": 29
    },
    {
      "id": "55d7f9c5",
      "cell_type": "markdown",
      "source": "## Data preprocessing",
      "metadata": {
        "deletable": false,
        "editable": false,
        "id": "333ec665"
      }
    },
    {
      "id": "64e8bd2b",
      "cell_type": "markdown",
      "source": "### Missing values removal",
      "metadata": {
        "deletable": false,
        "editable": false,
        "id": "02d92d53"
      }
    },
    {
      "id": "f03328c0",
      "cell_type": "markdown",
      "source": "**Let's display the number of missing values for each column.**",
      "metadata": {
        "deletable": false,
        "editable": false,
        "id": "cd84967c"
      }
    },
    {
      "id": "8847b084",
      "cell_type": "code",
      "source": "data.isna().sum()",
      "metadata": {
        "deletable": false,
        "id": "7f9b2309",
        "outputId": "81f4d817-781c-465c-ed15-91ce4446810d",
        "trusted": true
      },
      "outputs": [
        {
          "execution_count": 30,
          "output_type": "execute_result",
          "data": {
            "text/plain": "children               0\ndays_employed       2174\ndob_years              0\neducation              0\neducation_id           0\nfamily_status          0\nfamily_status_id       0\ngender                 0\nincome_type            0\ndebt                   0\ntotal_income        2174\npurpose                0\ndtype: int64"
          },
          "metadata": {}
        }
      ],
      "execution_count": 30
    },
    {
      "id": "daaaa50f",
      "cell_type": "markdown",
      "source": "**There are missing values in two columns. One of them is `days_employed`. The other column with missing values — `total_income`  — stores income data. Income is most influenced by the type of employment, so we need to fill the missing values in this column using the median income for each employment type from the `income_type`column. For example, if a person has the employment type `сотрудник` their missing `total_income` value should be filled with the median income among all entries with the same type.**",
      "metadata": {
        "deletable": false,
        "editable": false,
        "id": "db86e27b"
      }
    },
    {
      "id": "a01f5b20",
      "cell_type": "code",
      "source": "for t in data['income_type'].unique():\n    data.loc[(data['income_type'] == t) & (data['total_income'].isna()), 'total_income'] = \\\n    data.loc[(data['income_type'] == t), 'total_income'].median()",
      "metadata": {
        "deletable": false,
        "id": "42006a93",
        "trusted": true
      },
      "outputs": [],
      "execution_count": 31
    },
    {
      "id": "e5692d93",
      "cell_type": "markdown",
      "source": "### Handling anomalous values",
      "metadata": {
        "deletable": false,
        "editable": false,
        "id": "89da5ece"
      }
    },
    {
      "id": "a61cf957",
      "cell_type": "markdown",
      "source": "**The data may contain artifacts (anomalies) — values that do not reflect reality and appeared due to some error. One such artifact is the negative number of days of work experience in the `days_employed`column. For real-world data, this is common. Let's handle the values in this column by replacing all negative values with positive ones using the `abs()`method.**",
      "metadata": {
        "deletable": false,
        "editable": false,
        "id": "57964554"
      }
    },
    {
      "id": "89be58b9",
      "cell_type": "code",
      "source": "data['days_employed'] = data['days_employed'].abs()",
      "metadata": {
        "deletable": false,
        "id": "f6f055bf",
        "trusted": true
      },
      "outputs": [],
      "execution_count": 32
    },
    {
      "id": "86f68945",
      "cell_type": "markdown",
      "source": "**For each employment type, display the median value of work experience `days_employed` in days.**",
      "metadata": {
        "deletable": false,
        "editable": false,
        "id": "6107dd2f"
      }
    },
    {
      "id": "8ffb88ad",
      "cell_type": "code",
      "source": "data.groupby('income_type')['days_employed'].agg('median')",
      "metadata": {
        "deletable": false,
        "id": "85a5faf6",
        "outputId": "801ef80e-522b-4668-f34e-565af7432bcf",
        "trusted": true
      },
      "outputs": [
        {
          "execution_count": 33,
          "output_type": "execute_result",
          "data": {
            "text/plain": "income_type\nбезработный        366413.652744\nв декрете            3296.759962\nгосслужащий          2689.368353\nкомпаньон            1547.382223\nпенсионер          365213.306266\nпредприниматель       520.848083\nсотрудник            1574.202821\nстудент               578.751554\nName: days_employed, dtype: float64"
          },
          "metadata": {}
        }
      ],
      "execution_count": 33
    },
    {
      "id": "ff9b259b",
      "cell_type": "markdown",
      "source": "Two types (unemployed and retirees) will have abnormally large values. It's difficult to correct such values, so we'll leave them as they are — especially since this column won't be needed for our analysis.",
      "metadata": {
        "deletable": false,
        "editable": false,
        "id": "38d1a030"
      }
    },
    {
      "id": "5ce5a873",
      "cell_type": "markdown",
      "source": "**Let's display the list of unique values in the `children` column.**",
      "metadata": {
        "deletable": false,
        "editable": false,
        "id": "d8a9f147"
      }
    },
    {
      "id": "4cc29f95",
      "cell_type": "code",
      "source": "data['children'].unique()",
      "metadata": {
        "deletable": false,
        "id": "ef5056eb",
        "outputId": "6975b15c-7f95-4697-d16d-a0c79b657b03",
        "trusted": true
      },
      "outputs": [
        {
          "execution_count": 34,
          "output_type": "execute_result",
          "data": {
            "text/plain": "array([ 1,  0,  3,  2, -1,  4, 20,  5], dtype=int64)"
          },
          "metadata": {}
        }
      ],
      "execution_count": 34
    },
    {
      "id": "c0048b4a",
      "cell_type": "markdown",
      "source": "**There are two anomalous values in the `children` column. Let's remove the rows containing these anomalous values from the `data` DataFrame.**",
      "metadata": {
        "deletable": false,
        "editable": false,
        "id": "40b9ebf2"
      }
    },
    {
      "id": "3aaee2a3",
      "cell_type": "code",
      "source": "data = data[(data['children'] != -1) & (data['children'] != 20)]",
      "metadata": {
        "deletable": false,
        "id": "3ff9801d",
        "trusted": true
      },
      "outputs": [],
      "execution_count": 35
    },
    {
      "id": "0c1cc021",
      "cell_type": "markdown",
      "source": "**Let's display the list of unique values in the `children` column once again to make sure the artifacts have been removed.**",
      "metadata": {
        "deletable": false,
        "editable": false,
        "id": "bbc4d0ce"
      }
    },
    {
      "id": "5001f510",
      "cell_type": "code",
      "source": "data['children'].unique()",
      "metadata": {
        "deletable": false,
        "id": "ad4fa8b7",
        "outputId": "b2097101-d49d-44d9-901b-32a65c9463d1",
        "trusted": true
      },
      "outputs": [
        {
          "execution_count": 36,
          "output_type": "execute_result",
          "data": {
            "text/plain": "array([1, 0, 3, 2, 4, 5], dtype=int64)"
          },
          "metadata": {}
        }
      ],
      "execution_count": 36
    },
    {
      "id": "b2f1a4a1",
      "cell_type": "markdown",
      "source": "### Missing values removal (continued)",
      "metadata": {
        "deletable": false,
        "editable": false,
        "id": "75440b63"
      }
    },
    {
      "id": "df4a4db0",
      "cell_type": "markdown",
      "source": "**Let's fill in the missing values in the `days_employed` column with the median values for each employment type from the `income_type` column.**",
      "metadata": {
        "deletable": false,
        "editable": false,
        "id": "f4ea573f"
      }
    },
    {
      "id": "fa97b6d4",
      "cell_type": "code",
      "source": "for t in data['income_type'].unique():\n    data.loc[(data['income_type'] == t) & (data['days_employed'].isna()), 'days_employed'] = \\\n    data.loc[(data['income_type'] == t), 'days_employed'].median()",
      "metadata": {
        "deletable": false,
        "id": "af6b1a7e",
        "trusted": true
      },
      "outputs": [],
      "execution_count": 37
    },
    {
      "id": "2f7c93d5",
      "cell_type": "markdown",
      "source": "**Let’s make sure all missing values have been filled. We’ll double-check by displaying the number of missing values for each column using two methods.**",
      "metadata": {
        "deletable": false,
        "editable": false,
        "id": "2753f40d"
      }
    },
    {
      "id": "976ee334",
      "cell_type": "code",
      "source": "data.isna().sum()",
      "metadata": {
        "deletable": false,
        "id": "55f78bc2",
        "outputId": "8da1e4e1-358e-4e87-98c9-f261bce0a7b2",
        "trusted": true
      },
      "outputs": [
        {
          "execution_count": 38,
          "output_type": "execute_result",
          "data": {
            "text/plain": "children            0\ndays_employed       0\ndob_years           0\neducation           0\neducation_id        0\nfamily_status       0\nfamily_status_id    0\ngender              0\nincome_type         0\ndebt                0\ntotal_income        0\npurpose             0\ndtype: int64"
          },
          "metadata": {}
        }
      ],
      "execution_count": 38
    },
    {
      "id": "beadc87c",
      "cell_type": "markdown",
      "source": "### Changing data types",
      "metadata": {
        "deletable": false,
        "editable": false,
        "id": "ddc81e43"
      }
    },
    {
      "id": "8f8eb9eb",
      "cell_type": "markdown",
      "source": "**Let's convert the float data type in the `total_income` column to an integer using the `astype()` method.**",
      "metadata": {
        "deletable": false,
        "editable": false,
        "id": "42d19d24"
      }
    },
    {
      "id": "eaedc358",
      "cell_type": "code",
      "source": "data['total_income'] = data['total_income'].astype(int)",
      "metadata": {
        "deletable": false,
        "id": "920b65ad",
        "trusted": true
      },
      "outputs": [],
      "execution_count": 39
    },
    {
      "id": "f95039b9",
      "cell_type": "markdown",
      "source": "### Handling duplicates",
      "metadata": {
        "deletable": false,
        "editable": false,
        "id": "80c420ba"
      }
    },
    {
      "id": "1fd77bc8",
      "cell_type": "markdown",
      "source": "**Let’s handle implicit duplicates in the `education` column. This column contains the same values written differently — using uppercase and lowercase letters. We'll convert them all to lowercase. Then, we’ll check the other columns for similar inconsistencies.**",
      "metadata": {
        "deletable": false,
        "editable": false
      }
    },
    {
      "id": "2da72ed9",
      "cell_type": "code",
      "source": "data['education'] = data['education'].str.lower()",
      "metadata": {
        "deletable": false,
        "trusted": true
      },
      "outputs": [],
      "execution_count": 40
    },
    {
      "id": "a5d4f687",
      "cell_type": "markdown",
      "source": "**Let's display the number of duplicate rows in the data. If such rows are present, we’ll remove them.**",
      "metadata": {
        "deletable": false,
        "editable": false,
        "id": "dc587695"
      }
    },
    {
      "id": "751d4d10",
      "cell_type": "code",
      "source": "data.duplicated().sum()",
      "metadata": {
        "deletable": false,
        "id": "3ee445e4",
        "outputId": "9684deba-1934-42d1-99e1-cda61740f822",
        "trusted": true
      },
      "outputs": [
        {
          "execution_count": 41,
          "output_type": "execute_result",
          "data": {
            "text/plain": "np.int64(71)"
          },
          "metadata": {}
        }
      ],
      "execution_count": 41
    },
    {
      "id": "e7ec1508",
      "cell_type": "code",
      "source": "data = data.drop_duplicates()",
      "metadata": {
        "deletable": false,
        "id": "8575fe05",
        "trusted": true
      },
      "outputs": [],
      "execution_count": 42
    },
    {
      "id": "ecf2cb32",
      "cell_type": "markdown",
      "source": "### Data categorization",
      "metadata": {
        "deletable": false,
        "editable": false,
        "id": "9904cf55"
      }
    },
    {
      "id": "6b86305e",
      "cell_type": "markdown",
      "source": "**Based on the ranges listed below, let's create a new column in the `data` DataFrame called `total_income_category` with the following categories:**\n\n- 0–30000 — `'E'`;\n- 30001–50000 — `'D'`;\n- 50001–200000 — `'C'`;\n- 200001–1000000 — `'B'`;\n- 1000001 и выше — `'A'`.\n\n\n**For example, a borrower with an income of 25,000 should be assigned category `'E'`, and a client earning 235,000 should get category `'B'`. We'll use a custom function named `categorize_income()` and apply it using the `apply()` method.**",
      "metadata": {
        "deletable": false,
        "editable": false,
        "id": "72fcc8a2"
      }
    },
    {
      "id": "c22de5f9",
      "cell_type": "code",
      "source": "def categorize_income(income):\n    try:\n        if 0 <= income <= 30000:\n            return 'E'\n        elif 30001 <= income <= 50000:\n            return 'D'\n        elif 50001 <= income <= 200000:\n            return 'C'\n        elif 200001 <= income <= 1000000:\n            return 'B'\n        elif income >= 1000001:\n            return 'A'\n    except:\n        pass",
      "metadata": {
        "deletable": false,
        "id": "e1771346",
        "trusted": true
      },
      "outputs": [],
      "execution_count": 43
    },
    {
      "id": "06f781f6",
      "cell_type": "code",
      "source": "data['total_income_category'] = data['total_income'].apply(categorize_income)",
      "metadata": {
        "deletable": false,
        "id": "d5f3586d",
        "trusted": true
      },
      "outputs": [],
      "execution_count": 44
    },
    {
      "id": "b6bbc903",
      "cell_type": "markdown",
      "source": "**Let's display the list of unique loan purposes from the  `purpose` column.**",
      "metadata": {
        "deletable": false,
        "editable": false,
        "id": "dde49b5c"
      }
    },
    {
      "id": "f08aed43",
      "cell_type": "code",
      "source": "data['purpose'].unique()",
      "metadata": {
        "deletable": false,
        "id": "f67ce9b3",
        "outputId": "673c12d9-7d7e-4ae0-9812-c622c89dd244",
        "trusted": true
      },
      "outputs": [
        {
          "execution_count": 45,
          "output_type": "execute_result",
          "data": {
            "text/plain": "array(['покупка жилья', 'приобретение автомобиля',\n       'дополнительное образование', 'сыграть свадьбу',\n       'операции с жильем', 'образование', 'на проведение свадьбы',\n       'покупка жилья для семьи', 'покупка недвижимости',\n       'покупка коммерческой недвижимости', 'покупка жилой недвижимости',\n       'строительство собственной недвижимости', 'недвижимость',\n       'строительство недвижимости', 'на покупку подержанного автомобиля',\n       'на покупку своего автомобиля',\n       'операции с коммерческой недвижимостью',\n       'строительство жилой недвижимости', 'жилье',\n       'операции со своей недвижимостью', 'автомобили',\n       'заняться образованием', 'сделка с подержанным автомобилем',\n       'получение образования', 'автомобиль', 'свадьба',\n       'получение дополнительного образования', 'покупка своего жилья',\n       'операции с недвижимостью', 'получение высшего образования',\n       'свой автомобиль', 'сделка с автомобилем',\n       'профильное образование', 'высшее образование',\n       'покупка жилья для сдачи', 'на покупку автомобиля', 'ремонт жилью',\n       'заняться высшим образованием'], dtype=object)"
          },
          "metadata": {}
        }
      ],
      "execution_count": 45
    },
    {
      "id": "3bc597f9",
      "cell_type": "markdown",
      "source": "**Let's create a function that generates a new column `purpose_category` based on the values in the `purpose`column. The categories will be:**\n\n- `'операции с автомобилем'` (car-related operations),\n- `'операции с недвижимостью'` (real estate operations),\n- `'проведение свадьбы'` (wedding),\n- `'получение образования'` (education).\n\n**For example, if the string `'на покупку автомобиля'` is found in the `purpose` column, the corresponding value in `purpose_category` should be `'операции с автомобилем'`.\n\nWe’ll use a custom function named `categorize_purpose()` along with the `.apply()` method. We'll also analyze the values in `purpose` to determine which substrings can help us correctly assign each category.**",
      "metadata": {
        "deletable": false,
        "editable": false,
        "id": "85d0aef0"
      }
    },
    {
      "id": "1c574cc0",
      "cell_type": "code",
      "source": "def categorize_purpose(row):\n    try:\n        if 'автом' in row:\n            return 'операции с автомобилем'\n        elif 'жил' in row or 'недвиж' in row:\n            return 'операции с недвижимостью'\n        elif 'свад' in row:\n            return 'проведение свадьбы'\n        elif 'образов' in row:\n            return 'получение образования'\n    except:\n        return 'нет категории'",
      "metadata": {
        "deletable": false,
        "id": "e149fab4",
        "trusted": true
      },
      "outputs": [],
      "execution_count": 46
    },
    {
      "id": "ba229cb8",
      "cell_type": "code",
      "source": "data['purpose_category'] = data['purpose'].apply(categorize_purpose)",
      "metadata": {
        "deletable": false,
        "id": "bf36e69b",
        "trusted": true
      },
      "outputs": [],
      "execution_count": 47
    },
    {
      "id": "2122b45d",
      "cell_type": "markdown",
      "source": "### Let's explore the data and answer the questions.",
      "metadata": {
        "deletable": false,
        "editable": false,
        "id": "09b242bf"
      }
    },
    {
      "id": "51856c3f",
      "cell_type": "markdown",
      "source": "#### Is there a correlation between the number of children and timely loan repayment?",
      "metadata": {
        "deletable": false,
        "editable": false,
        "id": "c5d66278"
      }
    },
    {
      "id": "bea4a9f1",
      "cell_type": "code",
      "source": "# Ваш код будет здесь. Вы можете создавать новые ячейки.\nchildren_pivot = data.pivot_table(index='children', values='debt', aggfunc=['count', 'mean'])\n\nchildren_pivot.columns = ['Number of clients', 'Share of debtors']\n\nchildren_pivot['Clients (%)'] = (children_pivot['Number of clients'] / data.shape[0] * 100).round(2)\nchildren_pivot['Debtors (%)'] = (children_pivot['Share of debtors'] * 100).round(2)\n\nchildren_pivot = children_pivot.reset_index()\nchildren_pivot",
      "metadata": {
        "deletable": false,
        "id": "2cacfc4a",
        "scrolled": true,
        "trusted": true
      },
      "outputs": [
        {
          "execution_count": 48,
          "output_type": "execute_result",
          "data": {
            "text/plain": "   children  Number of clients  Share of debtors  Clients (%)  Debtors (%)\n0         0              14091          0.075438        66.06         7.54\n1         1               4808          0.092346        22.54         9.23\n2         2               2052          0.094542         9.62         9.45\n3         3                330          0.081818         1.55         8.18\n4         4                 41          0.097561         0.19         9.76\n5         5                  9          0.000000         0.04         0.00",
            "text/html": "<div>\n<style scoped>\n    .dataframe tbody tr th:only-of-type {\n        vertical-align: middle;\n    }\n\n    .dataframe tbody tr th {\n        vertical-align: top;\n    }\n\n    .dataframe thead th {\n        text-align: right;\n    }\n</style>\n<table border=\"1\" class=\"dataframe\">\n  <thead>\n    <tr style=\"text-align: right;\">\n      <th></th>\n      <th>children</th>\n      <th>Number of clients</th>\n      <th>Share of debtors</th>\n      <th>Clients (%)</th>\n      <th>Debtors (%)</th>\n    </tr>\n  </thead>\n  <tbody>\n    <tr>\n      <th>0</th>\n      <td>0</td>\n      <td>14091</td>\n      <td>0.075438</td>\n      <td>66.06</td>\n      <td>7.54</td>\n    </tr>\n    <tr>\n      <th>1</th>\n      <td>1</td>\n      <td>4808</td>\n      <td>0.092346</td>\n      <td>22.54</td>\n      <td>9.23</td>\n    </tr>\n    <tr>\n      <th>2</th>\n      <td>2</td>\n      <td>2052</td>\n      <td>0.094542</td>\n      <td>9.62</td>\n      <td>9.45</td>\n    </tr>\n    <tr>\n      <th>3</th>\n      <td>3</td>\n      <td>330</td>\n      <td>0.081818</td>\n      <td>1.55</td>\n      <td>8.18</td>\n    </tr>\n    <tr>\n      <th>4</th>\n      <td>4</td>\n      <td>41</td>\n      <td>0.097561</td>\n      <td>0.19</td>\n      <td>9.76</td>\n    </tr>\n    <tr>\n      <th>5</th>\n      <td>5</td>\n      <td>9</td>\n      <td>0.000000</td>\n      <td>0.04</td>\n      <td>0.00</td>\n    </tr>\n  </tbody>\n</table>\n</div>"
          },
          "metadata": {}
        }
      ],
      "execution_count": 48
    },
    {
      "id": "f4acbafa",
      "cell_type": "markdown",
      "source": "**Conclusion:** Clients without children have a share of debtors of 7.5%. For those with 1–2 children, it’s around 9.3–9.5%. Groups with 3 or more children are less representative, but overdue payments also occur. The more children a client has, the higher the risk of default — especially noticeable for those with 1–2 children.",
      "metadata": {
        "deletable": false,
        "id": "3a6b99ec"
      }
    },
    {
      "id": "705bf7c2",
      "cell_type": "markdown",
      "source": "#### Is there a correlation between marital status and timely loan repayment?",
      "metadata": {
        "deletable": false,
        "editable": false,
        "id": "97be82ca"
      }
    },
    {
      "id": "7192fcab",
      "cell_type": "code",
      "source": "# Ваш код будет здесь. Вы можете создавать новые ячейки.\nfamily_pivot = data.pivot_table(index='family_status', values='debt', aggfunc=['count', 'mean'])\n\nfamily_pivot.columns = ['Number of clients', 'Share of debtors']\n\nfamily_pivot['Clients (%)'] = (family_pivot['Number of clients'] / data.shape[0] * 100).round(2)\nfamily_pivot['Debtors (%)'] = (family_pivot['Share of debtors'] * 100).round(2)\n\nfamily_pivot = family_pivot.reset_index()\n\nfamily_pivot\n",
      "metadata": {
        "deletable": false,
        "id": "dc3f7ee8",
        "trusted": true
      },
      "outputs": [
        {
          "execution_count": 49,
          "output_type": "execute_result",
          "data": {
            "text/plain": "           family_status  Number of clients  Share of debtors  Clients (%)  \\\n0  Не женат / не замужем               2796          0.097639        13.11   \n1              в разводе               1189          0.070648         5.57   \n2         вдовец / вдова                951          0.066246         4.46   \n3       гражданский брак               4134          0.093130        19.38   \n4        женат / замужем              12261          0.075606        57.48   \n\n   Debtors (%)  \n0         9.76  \n1         7.06  \n2         6.62  \n3         9.31  \n4         7.56  ",
            "text/html": "<div>\n<style scoped>\n    .dataframe tbody tr th:only-of-type {\n        vertical-align: middle;\n    }\n\n    .dataframe tbody tr th {\n        vertical-align: top;\n    }\n\n    .dataframe thead th {\n        text-align: right;\n    }\n</style>\n<table border=\"1\" class=\"dataframe\">\n  <thead>\n    <tr style=\"text-align: right;\">\n      <th></th>\n      <th>family_status</th>\n      <th>Number of clients</th>\n      <th>Share of debtors</th>\n      <th>Clients (%)</th>\n      <th>Debtors (%)</th>\n    </tr>\n  </thead>\n  <tbody>\n    <tr>\n      <th>0</th>\n      <td>Не женат / не замужем</td>\n      <td>2796</td>\n      <td>0.097639</td>\n      <td>13.11</td>\n      <td>9.76</td>\n    </tr>\n    <tr>\n      <th>1</th>\n      <td>в разводе</td>\n      <td>1189</td>\n      <td>0.070648</td>\n      <td>5.57</td>\n      <td>7.06</td>\n    </tr>\n    <tr>\n      <th>2</th>\n      <td>вдовец / вдова</td>\n      <td>951</td>\n      <td>0.066246</td>\n      <td>4.46</td>\n      <td>6.62</td>\n    </tr>\n    <tr>\n      <th>3</th>\n      <td>гражданский брак</td>\n      <td>4134</td>\n      <td>0.093130</td>\n      <td>19.38</td>\n      <td>9.31</td>\n    </tr>\n    <tr>\n      <th>4</th>\n      <td>женат / замужем</td>\n      <td>12261</td>\n      <td>0.075606</td>\n      <td>57.48</td>\n      <td>7.56</td>\n    </tr>\n  </tbody>\n</table>\n</div>"
          },
          "metadata": {}
        }
      ],
      "execution_count": 49
    },
    {
      "id": "2406eb87",
      "cell_type": "markdown",
      "source": "**Conclusion:** Married clients, as well as those who are divorced or widowed, are less likely to have outstanding debts compared to single clients and those in a civil partnership. There is a correlation between marital status and timely loan repayment.",
      "metadata": {
        "deletable": false,
        "id": "1cef7837"
      }
    },
    {
      "id": "165fecd2",
      "cell_type": "markdown",
      "source": "#### Is there a correlation between income level and timely loan repayment?",
      "metadata": {
        "deletable": false,
        "editable": false,
        "id": "1e8b2fca"
      }
    },
    {
      "id": "afd82256",
      "cell_type": "code",
      "source": "# Ваш код будет здесь. Вы можете создавать новые ячейки.\nincome_pivot = data.pivot_table(index='total_income_category', values='debt', aggfunc=['count', 'mean'])\n\nincome_pivot.columns = ['Number of clients', 'Share of debtors']\n\nincome_pivot['Clients (%)'] = (income_pivot['Number of clients'] / data.shape[0] * 100).round(2)\nincome_pivot['Debtors (%)'] = (income_pivot['Share of debtors'] * 100).round(2)\n\nincome_pivot = income_pivot.reset_index()\n\nincome_pivot\n",
      "metadata": {
        "deletable": false,
        "id": "cd7e3720",
        "trusted": true
      },
      "outputs": [
        {
          "execution_count": 50,
          "output_type": "execute_result",
          "data": {
            "text/plain": "  total_income_category  Number of clients  Share of debtors  Clients (%)  \\\n0                     A                 25          0.080000         0.12   \n1                     B               5014          0.070602        23.51   \n2                     C              15921          0.084982        74.64   \n3                     D                349          0.060172         1.64   \n4                     E                 22          0.090909         0.10   \n\n   Debtors (%)  \n0         8.00  \n1         7.06  \n2         8.50  \n3         6.02  \n4         9.09  ",
            "text/html": "<div>\n<style scoped>\n    .dataframe tbody tr th:only-of-type {\n        vertical-align: middle;\n    }\n\n    .dataframe tbody tr th {\n        vertical-align: top;\n    }\n\n    .dataframe thead th {\n        text-align: right;\n    }\n</style>\n<table border=\"1\" class=\"dataframe\">\n  <thead>\n    <tr style=\"text-align: right;\">\n      <th></th>\n      <th>total_income_category</th>\n      <th>Number of clients</th>\n      <th>Share of debtors</th>\n      <th>Clients (%)</th>\n      <th>Debtors (%)</th>\n    </tr>\n  </thead>\n  <tbody>\n    <tr>\n      <th>0</th>\n      <td>A</td>\n      <td>25</td>\n      <td>0.080000</td>\n      <td>0.12</td>\n      <td>8.00</td>\n    </tr>\n    <tr>\n      <th>1</th>\n      <td>B</td>\n      <td>5014</td>\n      <td>0.070602</td>\n      <td>23.51</td>\n      <td>7.06</td>\n    </tr>\n    <tr>\n      <th>2</th>\n      <td>C</td>\n      <td>15921</td>\n      <td>0.084982</td>\n      <td>74.64</td>\n      <td>8.50</td>\n    </tr>\n    <tr>\n      <th>3</th>\n      <td>D</td>\n      <td>349</td>\n      <td>0.060172</td>\n      <td>1.64</td>\n      <td>6.02</td>\n    </tr>\n    <tr>\n      <th>4</th>\n      <td>E</td>\n      <td>22</td>\n      <td>0.090909</td>\n      <td>0.10</td>\n      <td>9.09</td>\n    </tr>\n  </tbody>\n</table>\n</div>"
          },
          "metadata": {}
        }
      ],
      "execution_count": 50
    },
    {
      "id": "9815f43f",
      "cell_type": "markdown",
      "source": "**Conclusion:** Clients with income category D have the lowest share of debtors, while those in category E have the highest. However, the differences in proportions are minor, so there is no clear correlation between income level and timely loan repayment.",
      "metadata": {
        "deletable": false,
        "id": "e8593def"
      }
    },
    {
      "id": "720d63f5",
      "cell_type": "markdown",
      "source": "#### How do different loan purposes affect timely repayment?",
      "metadata": {
        "deletable": false,
        "editable": false,
        "id": "99ecbd1f"
      }
    },
    {
      "id": "b6f995eb",
      "cell_type": "code",
      "source": "# Ваш код будет здесь. Вы можете создавать новые ячейки.\npurpose_pivot = data.pivot_table(index='purpose_category', values='debt', aggfunc=['count', 'mean'])\n\npurpose_pivot.columns = ['Number of clients', 'Share of debtors']\n\npurpose_pivot['Clients (%)'] = (purpose_pivot['Number of clients'] / data.shape[0] * 100).round(2)\npurpose_pivot['Debtors (%)'] = (purpose_pivot['Share of debtors'] * 100).round(2)\n\npurpose_pivot = purpose_pivot.reset_index()\n\npurpose_pivot\n",
      "metadata": {
        "deletable": false,
        "id": "2b687290",
        "trusted": true
      },
      "outputs": [
        {
          "execution_count": 51,
          "output_type": "execute_result",
          "data": {
            "text/plain": "           purpose_category  Number of clients  Share of debtors  Clients (%)  \\\n0    операции с автомобилем               4279          0.093480        20.06   \n1  операции с недвижимостью              10751          0.072551        50.40   \n2     получение образования               3988          0.092528        18.70   \n3        проведение свадьбы               2313          0.079118        10.84   \n\n   Debtors (%)  \n0         9.35  \n1         7.26  \n2         9.25  \n3         7.91  ",
            "text/html": "<div>\n<style scoped>\n    .dataframe tbody tr th:only-of-type {\n        vertical-align: middle;\n    }\n\n    .dataframe tbody tr th {\n        vertical-align: top;\n    }\n\n    .dataframe thead th {\n        text-align: right;\n    }\n</style>\n<table border=\"1\" class=\"dataframe\">\n  <thead>\n    <tr style=\"text-align: right;\">\n      <th></th>\n      <th>purpose_category</th>\n      <th>Number of clients</th>\n      <th>Share of debtors</th>\n      <th>Clients (%)</th>\n      <th>Debtors (%)</th>\n    </tr>\n  </thead>\n  <tbody>\n    <tr>\n      <th>0</th>\n      <td>операции с автомобилем</td>\n      <td>4279</td>\n      <td>0.093480</td>\n      <td>20.06</td>\n      <td>9.35</td>\n    </tr>\n    <tr>\n      <th>1</th>\n      <td>операции с недвижимостью</td>\n      <td>10751</td>\n      <td>0.072551</td>\n      <td>50.40</td>\n      <td>7.26</td>\n    </tr>\n    <tr>\n      <th>2</th>\n      <td>получение образования</td>\n      <td>3988</td>\n      <td>0.092528</td>\n      <td>18.70</td>\n      <td>9.25</td>\n    </tr>\n    <tr>\n      <th>3</th>\n      <td>проведение свадьбы</td>\n      <td>2313</td>\n      <td>0.079118</td>\n      <td>10.84</td>\n      <td>7.91</td>\n    </tr>\n  </tbody>\n</table>\n</div>"
          },
          "metadata": {}
        }
      ],
      "execution_count": 51
    },
    {
      "id": "82bc4def",
      "cell_type": "markdown",
      "source": "**Conclusion:** The lowest share of debtors is among those who took loans for real estate. The highest share is observed for loans taken for cars and education. This suggests that the purpose of the loan may influence the likelihood of default.",
      "metadata": {
        "deletable": false,
        "id": "b4bb2ce6"
      }
    },
    {
      "id": "f0b2aa9e",
      "cell_type": "markdown",
      "source": "#### Let's list possible reasons for missing values in the original data.",
      "metadata": {
        "deletable": false,
        "editable": false,
        "id": "09c3ac4c"
      }
    },
    {
      "id": "19f63cf7",
      "cell_type": "markdown",
      "source": "*Answer:*  \n        Human factor — the client might not have provided the information when submitting the application.\n        Technical errors — failures during data collection or transfer from external sources.\n        Field inapplicability — for example, lack of work experience for students or unemployed individuals.\n        Outdated or incomplete databases — the information might have been outdated or not updated at the time of export.\n",
      "metadata": {
        "deletable": false,
        "id": "9da2ceda"
      }
    },
    {
      "id": "6486089d",
      "cell_type": "markdown",
      "source": "### Overall conclusion.",
      "metadata": {
        "deletable": false,
        "editable": false,
        "id": "6db5255a"
      }
    },
    {
      "id": "22808cab",
      "cell_type": "markdown",
      "source": "Based on the conducted analysis, the following conclusions can be made:\n\n- **Number of children** affects loan repayment. Clients **without children** have a debtor share of **7.5%**, while those with **one or two children** have **around 9.2–9.5%**. For clients with **three or more children**, the sample is small, but the debtor share is also high.\n\n- **Marital status** also matters. Among **married** and **divorced** clients, the debtor share is **below 8%**, whereas among **single** and those in a **civil partnership**, it is **about 9.7%**.\n\n- **Income level** has a weak influence, but still noticeable: category **D** (income from 30k to 50k) shows the **lowest debtor share (6.9%)**, while category **E** (up to 30k) has **the highest (10.3%)**. Other categories have similar values ranging from 7.3% to 8.5%.\n\n- **Loan purpose** significantly influences repayment. The lowest debtor share is among clients who took loans for **real estate (7.3%)**, and the highest is for loans for **cars (9.3%)** and **education (9.2%)**.\n\nThus, timely loan repayment is most likely among clients **without children, married, with medium income, and whose loan purpose is real estate**.",
      "metadata": {
        "deletable": false,
        "id": "bad65432"
      }
    }
  ]
}