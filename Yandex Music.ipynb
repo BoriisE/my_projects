{
 "cells": [
  {
   "cell_type": "markdown",
   "metadata": {
    "deletable": false,
    "editable": false,
    "id": "E0vqbgi9ay0H"
   },
   "source": [
    "# Yandex Music"
   ]
  },
  {
   "cell_type": "markdown",
   "metadata": {
    "deletable": false,
    "editable": false,
    "id": "VUC88oWjTJw2"
   },
   "source": [
    "Comparison of Moscow and Saint Petersburg is surrounded by myths. For example:\n",
    "\n",
    "* Moscow is a metropolis governed by the strict rhythm of the workweek;\n",
    "* Saint Petersburg is a cultural capital with its own tastes.\n",
    "\n",
    "Using Yandex Music data, compare the behavior of users in the two capitals.\n",
    "\n",
    "**Research goal** — test three hypotheses:\n",
    "\n",
    "1. User activity depends on the day of the week, and this manifests differently in Moscow and Saint Petersburg.\n",
    "2. On Monday morning, different genres dominate in Moscow and Saint Petersburg. The same applies to Friday evening, with genres varying by city.\n",
    "3. Moscow and Saint Petersburg prefer different music genres. Pop music is more popular in Moscow, while Russian rap is more frequent in Saint Petersburg.\n",
    "\n",
    "**Research process**\n",
    "\n",
    "You will receive user behavior data from the file `yandex_music_project.csv`. Nothing is known about data quality, so a data overview is required before hypothesis testing.\n",
    "\n",
    "Check the data for errors and assess their impact on the study. Then, during preprocessing, find ways to fix the most critical data errors.\n",
    "\n",
    "Thus, the study will proceed in three stages:\n",
    "\n",
    "1. Data overview.\n",
    "2. Data preprocessing.\n",
    "3. Hypothesis testing.\n",
    "\n",
    "\n"
   ]
  },
  {
   "cell_type": "markdown",
   "metadata": {
    "deletable": false,
    "editable": false,
    "id": "Ml1hmfXC_Zcs"
   },
   "source": [
    "## Data Overview\n",
    "\n",
    "Form an initial understanding of the Yandex Music data.\n",
    "\n"
   ]
  },
  {
   "cell_type": "code",
   "execution_count": null,
   "metadata": {
    "deletable": false,
    "id": "AXN7PHPN_Zcs"
   },
   "outputs": [],
   "source": [
    "import pandas as pd # Importing the pandas library"
   ]
  },
  {
   "cell_type": "code",
   "execution_count": null,
   "metadata": {
    "deletable": false,
    "id": "fFVu7vqh_Zct"
   },
   "outputs": [],
   "source": [
    "df = pd.read_csv('/datasets/yandex_music_project.csv') # Reading the data file and saving it to a DataFrame (df)"
   ]
  },
  {
   "cell_type": "code",
   "execution_count": null,
   "metadata": {
    "deletable": false,
    "id": "oWTVX3gW_Zct"
   },
   "outputs": [
    {
     "data": {
      "text/html": [
       "<div>\n",
       "<style scoped>\n",
       "    .dataframe tbody tr th:only-of-type {\n",
       "        vertical-align: middle;\n",
       "    }\n",
       "\n",
       "    .dataframe tbody tr th {\n",
       "        vertical-align: top;\n",
       "    }\n",
       "\n",
       "    .dataframe thead th {\n",
       "        text-align: right;\n",
       "    }\n",
       "</style>\n",
       "<table border=\"1\" class=\"dataframe\">\n",
       "  <thead>\n",
       "    <tr style=\"text-align: right;\">\n",
       "      <th></th>\n",
       "      <th>userID</th>\n",
       "      <th>Track</th>\n",
       "      <th>artist</th>\n",
       "      <th>genre</th>\n",
       "      <th>City</th>\n",
       "      <th>time</th>\n",
       "      <th>Day</th>\n",
       "    </tr>\n",
       "  </thead>\n",
       "  <tbody>\n",
       "    <tr>\n",
       "      <th>0</th>\n",
       "      <td>FFB692EC</td>\n",
       "      <td>Kamigata To Boots</td>\n",
       "      <td>The Mass Missile</td>\n",
       "      <td>rock</td>\n",
       "      <td>Saint-Petersburg</td>\n",
       "      <td>20:28:33</td>\n",
       "      <td>Wednesday</td>\n",
       "    </tr>\n",
       "    <tr>\n",
       "      <th>1</th>\n",
       "      <td>55204538</td>\n",
       "      <td>Delayed Because of Accident</td>\n",
       "      <td>Andreas Rönnberg</td>\n",
       "      <td>rock</td>\n",
       "      <td>Moscow</td>\n",
       "      <td>14:07:09</td>\n",
       "      <td>Friday</td>\n",
       "    </tr>\n",
       "    <tr>\n",
       "      <th>2</th>\n",
       "      <td>20EC38</td>\n",
       "      <td>Funiculì funiculà</td>\n",
       "      <td>Mario Lanza</td>\n",
       "      <td>pop</td>\n",
       "      <td>Saint-Petersburg</td>\n",
       "      <td>20:58:07</td>\n",
       "      <td>Wednesday</td>\n",
       "    </tr>\n",
       "    <tr>\n",
       "      <th>3</th>\n",
       "      <td>A3DD03C9</td>\n",
       "      <td>Dragons in the Sunset</td>\n",
       "      <td>Fire + Ice</td>\n",
       "      <td>folk</td>\n",
       "      <td>Saint-Petersburg</td>\n",
       "      <td>08:37:09</td>\n",
       "      <td>Monday</td>\n",
       "    </tr>\n",
       "    <tr>\n",
       "      <th>4</th>\n",
       "      <td>E2DC1FAE</td>\n",
       "      <td>Soul People</td>\n",
       "      <td>Space Echo</td>\n",
       "      <td>dance</td>\n",
       "      <td>Moscow</td>\n",
       "      <td>08:34:34</td>\n",
       "      <td>Monday</td>\n",
       "    </tr>\n",
       "    <tr>\n",
       "      <th>5</th>\n",
       "      <td>842029A1</td>\n",
       "      <td>Преданная</td>\n",
       "      <td>IMPERVTOR</td>\n",
       "      <td>rusrap</td>\n",
       "      <td>Saint-Petersburg</td>\n",
       "      <td>13:09:41</td>\n",
       "      <td>Friday</td>\n",
       "    </tr>\n",
       "    <tr>\n",
       "      <th>6</th>\n",
       "      <td>4CB90AA5</td>\n",
       "      <td>True</td>\n",
       "      <td>Roman Messer</td>\n",
       "      <td>dance</td>\n",
       "      <td>Moscow</td>\n",
       "      <td>13:00:07</td>\n",
       "      <td>Wednesday</td>\n",
       "    </tr>\n",
       "    <tr>\n",
       "      <th>7</th>\n",
       "      <td>F03E1C1F</td>\n",
       "      <td>Feeling This Way</td>\n",
       "      <td>Polina Griffith</td>\n",
       "      <td>dance</td>\n",
       "      <td>Moscow</td>\n",
       "      <td>20:47:49</td>\n",
       "      <td>Wednesday</td>\n",
       "    </tr>\n",
       "    <tr>\n",
       "      <th>8</th>\n",
       "      <td>8FA1D3BE</td>\n",
       "      <td>И вновь продолжается бой</td>\n",
       "      <td>NaN</td>\n",
       "      <td>ruspop</td>\n",
       "      <td>Moscow</td>\n",
       "      <td>09:17:40</td>\n",
       "      <td>Friday</td>\n",
       "    </tr>\n",
       "    <tr>\n",
       "      <th>9</th>\n",
       "      <td>E772D5C0</td>\n",
       "      <td>Pessimist</td>\n",
       "      <td>NaN</td>\n",
       "      <td>dance</td>\n",
       "      <td>Saint-Petersburg</td>\n",
       "      <td>21:20:49</td>\n",
       "      <td>Wednesday</td>\n",
       "    </tr>\n",
       "  </tbody>\n",
       "</table>\n",
       "</div>"
      ],
      "text/plain": [
       "     userID                        Track            artist   genre  \\\n",
       "0  FFB692EC            Kamigata To Boots  The Mass Missile    rock   \n",
       "1  55204538  Delayed Because of Accident  Andreas Rönnberg    rock   \n",
       "2    20EC38            Funiculì funiculà       Mario Lanza     pop   \n",
       "3  A3DD03C9        Dragons in the Sunset        Fire + Ice    folk   \n",
       "4  E2DC1FAE                  Soul People        Space Echo   dance   \n",
       "5  842029A1                    Преданная         IMPERVTOR  rusrap   \n",
       "6  4CB90AA5                         True      Roman Messer   dance   \n",
       "7  F03E1C1F             Feeling This Way   Polina Griffith   dance   \n",
       "8  8FA1D3BE     И вновь продолжается бой               NaN  ruspop   \n",
       "9  E772D5C0                    Pessimist               NaN   dance   \n",
       "\n",
       "             City        time        Day  \n",
       "0  Saint-Petersburg  20:28:33  Wednesday  \n",
       "1            Moscow  14:07:09     Friday  \n",
       "2  Saint-Petersburg  20:58:07  Wednesday  \n",
       "3  Saint-Petersburg  08:37:09     Monday  \n",
       "4            Moscow  08:34:34     Monday  \n",
       "5  Saint-Petersburg  13:09:41     Friday  \n",
       "6            Moscow  13:00:07  Wednesday  \n",
       "7            Moscow  20:47:49  Wednesday  \n",
       "8            Moscow  09:17:40     Friday  \n",
       "9  Saint-Petersburg  21:20:49  Wednesday  "
      ]
     },
     "execution_count": 13,
     "metadata": {},
     "output_type": "execute_result"
    }
   ],
   "source": [
    "df.head(10) # Getting the first 10 rows of the DataFrame (df)"
   ]
  },
  {
   "cell_type": "code",
   "execution_count": null,
   "metadata": {
    "deletable": false,
    "id": "DSf2kIb-_Zct"
   },
   "outputs": [
    {
     "name": "stdout",
     "output_type": "stream",
     "text": [
      "<class 'pandas.core.frame.DataFrame'>\n",
      "RangeIndex: 65079 entries, 0 to 65078\n",
      "Data columns (total 7 columns):\n",
      " #   Column    Non-Null Count  Dtype \n",
      "---  ------    --------------  ----- \n",
      " 0     userID  65079 non-null  object\n",
      " 1   Track     63848 non-null  object\n",
      " 2   artist    57876 non-null  object\n",
      " 3   genre     63881 non-null  object\n",
      " 4     City    65079 non-null  object\n",
      " 5   time      65079 non-null  object\n",
      " 6   Day       65079 non-null  object\n",
      "dtypes: object(7)\n",
      "memory usage: 3.5+ MB\n"
     ]
    }
   ],
   "source": [
    "df.info() # Getting the overall information about the data in the DataFrame (df)"
   ]
  },
  {
   "cell_type": "markdown",
   "metadata": {
    "deletable": false,
    "editable": false,
    "id": "TaQ2Iwbr_Zct"
   },
   "source": [
    "The number of values in the columns varies. This means the data contains missing values."
   ]
  },
  {
   "cell_type": "code",
   "execution_count": null,
   "metadata": {
    "id": "c137-ZstwgEm"
   },
   "outputs": [],
   "source": [
    "# The column names show three style issues: lowercase letters mixed with uppercase, spaces are present, and there are no underscores."
   ]
  },
  {
   "cell_type": "markdown",
   "metadata": {
    "deletable": false,
    "editable": false,
    "id": "MCB6-dXG_Zct"
   },
   "source": [
    "**Conclusions**\n",
    "\n",
    "Each row in the table represents data about a listened track. Some columns describe the track itself: title, artist, and genre. Other columns provide information about the user: their city and when they listened to the music.\n",
    "\n",
    "Preliminarily, the data appears sufficient for testing the hypotheses. However, there are missing values in the data and inconsistencies in column naming styles.\n",
    "\n",
    "To proceed, these data issues need to be addressed."
   ]
  },
  {
   "cell_type": "markdown",
   "metadata": {
    "deletable": false,
    "editable": false,
    "id": "SjYF6Ub9_Zct"
   },
   "source": [
    "## Data Preprocessing"
   ]
  },
  {
   "cell_type": "markdown",
   "metadata": {
    "deletable": false,
    "editable": false,
    "id": "dIaKXr29_Zct",
    "tags": [
     "start_task"
    ]
   },
   "source": [
    "### Renaming Column"
   ]
  },
  {
   "cell_type": "code",
   "execution_count": null,
   "metadata": {
    "deletable": false,
    "id": "oKOTdF_Q_Zct"
   },
   "outputs": [
    {
     "data": {
      "text/plain": [
       "Index(['  userID', 'Track', 'artist', 'genre', '  City  ', 'time', 'Day'], dtype='object')"
      ]
     },
     "execution_count": 15,
     "metadata": {},
     "output_type": "execute_result"
    }
   ],
   "source": [
    "df.columns # List of column names in the DataFrame (df)"
   ]
  },
  {
   "cell_type": "code",
   "execution_count": null,
   "metadata": {
    "deletable": false,
    "id": "ISlFqs5y_Zct"
   },
   "outputs": [],
   "source": [
    "df = df.rename( columns={'  userID':'user_id', 'Track':'track', '  City  ':'city', 'Day':'day'}) # Renaming columns"
   ]
  },
  {
   "cell_type": "code",
   "execution_count": null,
   "metadata": {
    "deletable": false,
    "id": "d4NOAmTW_Zct"
   },
   "outputs": [
    {
     "data": {
      "text/plain": [
       "Index(['user_id', 'track', 'artist', 'genre', 'city', 'time', 'day'], dtype='object')"
      ]
     },
     "execution_count": 17,
     "metadata": {},
     "output_type": "execute_result"
    }
   ],
   "source": [
    "df.columns # Verification of results — list of column names"
   ]
  },
  {
   "cell_type": "markdown",
   "metadata": {
    "deletable": false,
    "editable": false,
    "id": "5ISfbcfY_Zct",
    "tags": [
     "start_task"
    ]
   },
   "source": [
    "### Handling Missing Values"
   ]
  },
  {
   "cell_type": "code",
   "execution_count": null,
   "metadata": {
    "deletable": false,
    "id": "RskX29qr_Zct"
   },
   "outputs": [
    {
     "data": {
      "text/plain": [
       "user_id       0\n",
       "track      1231\n",
       "artist     7203\n",
       "genre      1198\n",
       "city          0\n",
       "time          0\n",
       "day           0\n",
       "dtype: int64"
      ]
     },
     "execution_count": 18,
     "metadata": {},
     "output_type": "execute_result"
    }
   ],
   "source": [
    "df.isna().sum() # Counting missing values"
   ]
  },
  {
   "cell_type": "code",
   "execution_count": null,
   "metadata": {
    "deletable": false,
    "id": "KplB5qWs_Zct"
   },
   "outputs": [],
   "source": [
    "# Replacing missing values with 'unknown'\n",
    "columns_to_replace = ['track', 'artist', 'genre']\n",
    "for column in columns_to_replace:\n",
    "    df[column] = df[column].fillna('unknown')"
   ]
  },
  {
   "cell_type": "code",
   "execution_count": null,
   "metadata": {
    "deletable": false,
    "id": "Tq4nYRX4_Zct"
   },
   "outputs": [
    {
     "data": {
      "text/plain": [
       "user_id    0\n",
       "track      0\n",
       "artist     0\n",
       "genre      0\n",
       "city       0\n",
       "time       0\n",
       "day        0\n",
       "dtype: int64"
      ]
     },
     "execution_count": 20,
     "metadata": {},
     "output_type": "execute_result"
    }
   ],
   "source": [
    "df.isna().sum() # Checking for absence of missing values"
   ]
  },
  {
   "cell_type": "markdown",
   "metadata": {
    "deletable": false,
    "editable": false,
    "id": "BWKRtBJ3_Zct",
    "tags": [
     "start_task"
    ]
   },
   "source": [
    "### Handling Duplicates"
   ]
  },
  {
   "cell_type": "code",
   "execution_count": null,
   "metadata": {
    "deletable": false,
    "id": "36eES_S0_Zct"
   },
   "outputs": [
    {
     "data": {
      "text/plain": [
       "3826"
      ]
     },
     "execution_count": 21,
     "metadata": {},
     "output_type": "execute_result"
    }
   ],
   "source": [
    "df.duplicated().sum() # Counting explicit duplicates"
   ]
  },
  {
   "cell_type": "code",
   "execution_count": null,
   "metadata": {
    "deletable": false,
    "id": "exFHq6tt_Zct"
   },
   "outputs": [],
   "source": [
    "df = df.drop_duplicates().reset_index(drop=True) # Removing explicit duplicates, resetting the index, and dropping the old index"
   ]
  },
  {
   "cell_type": "code",
   "execution_count": null,
   "metadata": {
    "deletable": false,
    "id": "-8PuNWQ0_Zct"
   },
   "outputs": [
    {
     "data": {
      "text/plain": [
       "0"
      ]
     },
     "execution_count": 23,
     "metadata": {},
     "output_type": "execute_result"
    }
   ],
   "source": [
    "df.duplicated().sum() # Checking for absence of explicit duplicates"
   ]
  },
  {
   "cell_type": "code",
   "execution_count": null,
   "metadata": {
    "deletable": false,
    "id": "JIUcqzZN_Zct",
    "scrolled": true
   },
   "outputs": [
    {
     "data": {
      "text/plain": [
       "array(['acid', 'acoustic', 'action', 'adult', 'africa', 'afrikaans',\n",
       "       'alternative', 'alternativepunk', 'ambient', 'americana',\n",
       "       'animated', 'anime', 'arabesk', 'arabic', 'arena',\n",
       "       'argentinetango', 'art', 'audiobook', 'author', 'avantgarde',\n",
       "       'axé', 'baile', 'balkan', 'beats', 'bigroom', 'black', 'bluegrass',\n",
       "       'blues', 'bollywood', 'bossa', 'brazilian', 'breakbeat', 'breaks',\n",
       "       'broadway', 'cantautori', 'cantopop', 'canzone', 'caribbean',\n",
       "       'caucasian', 'celtic', 'chamber', 'chanson', 'children', 'chill',\n",
       "       'chinese', 'choral', 'christian', 'christmas', 'classical',\n",
       "       'classicmetal', 'club', 'colombian', 'comedy', 'conjazz',\n",
       "       'contemporary', 'country', 'cuban', 'dance', 'dancehall',\n",
       "       'dancepop', 'dark', 'death', 'deep', 'deutschrock', 'deutschspr',\n",
       "       'dirty', 'disco', 'dnb', 'documentary', 'downbeat', 'downtempo',\n",
       "       'drum', 'dub', 'dubstep', 'eastern', 'easy', 'electronic',\n",
       "       'electropop', 'emo', 'entehno', 'epicmetal', 'estrada', 'ethnic',\n",
       "       'eurofolk', 'european', 'experimental', 'extrememetal', 'fado',\n",
       "       'fairytail', 'film', 'fitness', 'flamenco', 'folk', 'folklore',\n",
       "       'folkmetal', 'folkrock', 'folktronica', 'forró', 'frankreich',\n",
       "       'französisch', 'french', 'funk', 'future', 'gangsta', 'garage',\n",
       "       'german', 'ghazal', 'gitarre', 'glitch', 'gospel', 'gothic',\n",
       "       'grime', 'grunge', 'gypsy', 'handsup', \"hard'n'heavy\", 'hardcore',\n",
       "       'hardstyle', 'hardtechno', 'hip', 'hip-hop', 'hiphop',\n",
       "       'historisch', 'holiday', 'hop', 'horror', 'house', 'hymn', 'idm',\n",
       "       'independent', 'indian', 'indie', 'indipop', 'industrial',\n",
       "       'inspirational', 'instrumental', 'international', 'irish', 'jam',\n",
       "       'japanese', 'jazz', 'jewish', 'jpop', 'jungle', 'k-pop',\n",
       "       'karadeniz', 'karaoke', 'kayokyoku', 'korean', 'laiko', 'latin',\n",
       "       'latino', 'leftfield', 'local', 'lounge', 'loungeelectronic',\n",
       "       'lovers', 'malaysian', 'mandopop', 'marschmusik', 'meditative',\n",
       "       'mediterranean', 'melodic', 'metal', 'metalcore', 'mexican',\n",
       "       'middle', 'minimal', 'miscellaneous', 'modern', 'mood', 'mpb',\n",
       "       'muslim', 'native', 'neoklassik', 'neue', 'new', 'newage',\n",
       "       'newwave', 'nu', 'nujazz', 'numetal', 'oceania', 'old', 'opera',\n",
       "       'orchestral', 'other', 'piano', 'podcasts', 'pop', 'popdance',\n",
       "       'popelectronic', 'popeurodance', 'poprussian', 'post',\n",
       "       'posthardcore', 'postrock', 'power', 'progmetal', 'progressive',\n",
       "       'psychedelic', 'punjabi', 'punk', 'quebecois', 'ragga', 'ram',\n",
       "       'rancheras', 'rap', 'rave', 'reggae', 'reggaeton', 'regional',\n",
       "       'relax', 'religious', 'retro', 'rhythm', 'rnb', 'rnr', 'rock',\n",
       "       'rockabilly', 'rockalternative', 'rockindie', 'rockother',\n",
       "       'romance', 'roots', 'ruspop', 'rusrap', 'rusrock', 'russian',\n",
       "       'salsa', 'samba', 'scenic', 'schlager', 'self', 'sertanejo',\n",
       "       'shanson', 'shoegazing', 'showtunes', 'singer', 'ska', 'skarock',\n",
       "       'slow', 'smooth', 'soft', 'soul', 'soulful', 'sound', 'soundtrack',\n",
       "       'southern', 'specialty', 'speech', 'spiritual', 'sport',\n",
       "       'stonerrock', 'surf', 'swing', 'synthpop', 'synthrock',\n",
       "       'sängerportrait', 'tango', 'tanzorchester', 'taraftar', 'tatar',\n",
       "       'tech', 'techno', 'teen', 'thrash', 'top', 'traditional',\n",
       "       'tradjazz', 'trance', 'tribal', 'trip', 'triphop', 'tropical',\n",
       "       'türk', 'türkçe', 'ukrrock', 'unknown', 'urban', 'uzbek',\n",
       "       'variété', 'vi', 'videogame', 'vocal', 'western', 'world',\n",
       "       'worldbeat', 'ïîï', 'электроника'], dtype=object)"
      ]
     },
     "execution_count": 24,
     "metadata": {},
     "output_type": "execute_result"
    }
   ],
   "source": [
    "df['genre'].sort_values().unique() # Viewing unique sorted genre names"
   ]
  },
  {
   "cell_type": "code",
   "execution_count": null,
   "metadata": {
    "deletable": false,
    "id": "ErNDkmns_Zct"
   },
   "outputs": [],
   "source": [
    "# Removing implicit duplicates\n",
    "duplicates = ['hip', 'hop', 'hip-hop']\n",
    "correct_genre_name = 'hiphop'\n",
    "df['genre'] = df['genre'].replace(duplicates, correct_genre_name)"
   ]
  },
  {
   "cell_type": "code",
   "execution_count": null,
   "metadata": {
    "deletable": false,
    "id": "wvixALnFG15m"
   },
   "outputs": [
    {
     "data": {
      "text/plain": [
       "array(['acid', 'acoustic', 'action', 'adult', 'africa', 'afrikaans',\n",
       "       'alternative', 'alternativepunk', 'ambient', 'americana',\n",
       "       'animated', 'anime', 'arabesk', 'arabic', 'arena',\n",
       "       'argentinetango', 'art', 'audiobook', 'author', 'avantgarde',\n",
       "       'axé', 'baile', 'balkan', 'beats', 'bigroom', 'black', 'bluegrass',\n",
       "       'blues', 'bollywood', 'bossa', 'brazilian', 'breakbeat', 'breaks',\n",
       "       'broadway', 'cantautori', 'cantopop', 'canzone', 'caribbean',\n",
       "       'caucasian', 'celtic', 'chamber', 'chanson', 'children', 'chill',\n",
       "       'chinese', 'choral', 'christian', 'christmas', 'classical',\n",
       "       'classicmetal', 'club', 'colombian', 'comedy', 'conjazz',\n",
       "       'contemporary', 'country', 'cuban', 'dance', 'dancehall',\n",
       "       'dancepop', 'dark', 'death', 'deep', 'deutschrock', 'deutschspr',\n",
       "       'dirty', 'disco', 'dnb', 'documentary', 'downbeat', 'downtempo',\n",
       "       'drum', 'dub', 'dubstep', 'eastern', 'easy', 'electronic',\n",
       "       'electropop', 'emo', 'entehno', 'epicmetal', 'estrada', 'ethnic',\n",
       "       'eurofolk', 'european', 'experimental', 'extrememetal', 'fado',\n",
       "       'fairytail', 'film', 'fitness', 'flamenco', 'folk', 'folklore',\n",
       "       'folkmetal', 'folkrock', 'folktronica', 'forró', 'frankreich',\n",
       "       'französisch', 'french', 'funk', 'future', 'gangsta', 'garage',\n",
       "       'german', 'ghazal', 'gitarre', 'glitch', 'gospel', 'gothic',\n",
       "       'grime', 'grunge', 'gypsy', 'handsup', \"hard'n'heavy\", 'hardcore',\n",
       "       'hardstyle', 'hardtechno', 'hiphop', 'historisch', 'holiday',\n",
       "       'horror', 'house', 'hymn', 'idm', 'independent', 'indian', 'indie',\n",
       "       'indipop', 'industrial', 'inspirational', 'instrumental',\n",
       "       'international', 'irish', 'jam', 'japanese', 'jazz', 'jewish',\n",
       "       'jpop', 'jungle', 'k-pop', 'karadeniz', 'karaoke', 'kayokyoku',\n",
       "       'korean', 'laiko', 'latin', 'latino', 'leftfield', 'local',\n",
       "       'lounge', 'loungeelectronic', 'lovers', 'malaysian', 'mandopop',\n",
       "       'marschmusik', 'meditative', 'mediterranean', 'melodic', 'metal',\n",
       "       'metalcore', 'mexican', 'middle', 'minimal', 'miscellaneous',\n",
       "       'modern', 'mood', 'mpb', 'muslim', 'native', 'neoklassik', 'neue',\n",
       "       'new', 'newage', 'newwave', 'nu', 'nujazz', 'numetal', 'oceania',\n",
       "       'old', 'opera', 'orchestral', 'other', 'piano', 'podcasts', 'pop',\n",
       "       'popdance', 'popelectronic', 'popeurodance', 'poprussian', 'post',\n",
       "       'posthardcore', 'postrock', 'power', 'progmetal', 'progressive',\n",
       "       'psychedelic', 'punjabi', 'punk', 'quebecois', 'ragga', 'ram',\n",
       "       'rancheras', 'rap', 'rave', 'reggae', 'reggaeton', 'regional',\n",
       "       'relax', 'religious', 'retro', 'rhythm', 'rnb', 'rnr', 'rock',\n",
       "       'rockabilly', 'rockalternative', 'rockindie', 'rockother',\n",
       "       'romance', 'roots', 'ruspop', 'rusrap', 'rusrock', 'russian',\n",
       "       'salsa', 'samba', 'scenic', 'schlager', 'self', 'sertanejo',\n",
       "       'shanson', 'shoegazing', 'showtunes', 'singer', 'ska', 'skarock',\n",
       "       'slow', 'smooth', 'soft', 'soul', 'soulful', 'sound', 'soundtrack',\n",
       "       'southern', 'specialty', 'speech', 'spiritual', 'sport',\n",
       "       'stonerrock', 'surf', 'swing', 'synthpop', 'synthrock',\n",
       "       'sängerportrait', 'tango', 'tanzorchester', 'taraftar', 'tatar',\n",
       "       'tech', 'techno', 'teen', 'thrash', 'top', 'traditional',\n",
       "       'tradjazz', 'trance', 'tribal', 'trip', 'triphop', 'tropical',\n",
       "       'türk', 'türkçe', 'ukrrock', 'unknown', 'urban', 'uzbek',\n",
       "       'variété', 'vi', 'videogame', 'vocal', 'western', 'world',\n",
       "       'worldbeat', 'ïîï', 'электроника'], dtype=object)"
      ]
     },
     "execution_count": 26,
     "metadata": {},
     "output_type": "execute_result"
    }
   ],
   "source": [
    "df['genre'].sort_values().unique() # Checking for absence of implicit duplicates"
   ]
  },
  {
   "cell_type": "markdown",
   "metadata": {
    "deletable": false,
    "editable": false,
    "id": "jz6a9-7HQUDd"
   },
   "source": [
    "**Conclusions**\n",
    "\n",
    "Data preprocessing revealed three issues:\n",
    "\n",
    "* inconsistencies in header naming style,\n",
    "* missing values,\n",
    "* duplicates — both explicit and implicit.\n",
    "\n",
    "You corrected the headers to simplify working with the table. Removing duplicates will make the analysis more accurate.\n",
    "\n",
    "Missing values were replaced with `'unknown'`. It remains to be seen whether missing data in the `genre` column will affect the study.\n",
    "\n",
    "Now, you can proceed to hypothesis testing."
   ]
  },
  {
   "cell_type": "markdown",
   "metadata": {
    "deletable": false,
    "editable": false,
    "id": "WttZHXH0SqKk"
   },
   "source": [
    "## Hypothesis Testing"
   ]
  },
  {
   "cell_type": "markdown",
   "metadata": {
    "deletable": false,
    "editable": false,
    "id": "Im936VVi_Zcu"
   },
   "source": [
    "### Comparison of User Behavior in Two Capitals"
   ]
  },
  {
   "cell_type": "markdown",
   "metadata": {
    "deletable": false,
    "editable": false,
    "id": "nwt_MuaL_Zcu"
   },
   "source": [
    "The first hypothesis states that users listen to music differently in Moscow and Saint Petersburg. Let's test this assumption using data for three days of the week — Monday, Wednesday, and Friday. To do this:\n",
    "\n",
    "* Separate users from Moscow and Saint Petersburg.\n",
    "* Compare how many tracks each group listened to on Monday, Wednesday, and Friday."
   ]
  },
  {
   "cell_type": "code",
   "execution_count": null,
   "metadata": {
    "deletable": false,
    "id": "0_Qs96oh_Zcu"
   },
   "outputs": [
    {
     "data": {
      "text/plain": [
       "city\n",
       "Moscow              42741\n",
       "Saint-Petersburg    18512\n",
       "Name: user_id, dtype: int64"
      ]
     },
     "execution_count": 27,
     "metadata": {},
     "output_type": "execute_result"
    }
   ],
   "source": [
    "df.groupby('city')['user_id'].count() # Counting the number of listens in each city"
   ]
  },
  {
   "cell_type": "code",
   "execution_count": null,
   "metadata": {
    "deletable": false,
    "id": "uZMKjiJz_Zcu"
   },
   "outputs": [
    {
     "data": {
      "text/plain": [
       "day\n",
       "Friday       21840\n",
       "Monday       21354\n",
       "Wednesday    18059\n",
       "Name: city, dtype: int64"
      ]
     },
     "execution_count": 28,
     "metadata": {},
     "output_type": "execute_result"
    }
   ],
   "source": [
    "df.groupby('day')['city'].count() # Counting the number of listens on each of the three days"
   ]
  },
  {
   "cell_type": "code",
   "execution_count": null,
   "metadata": {
    "deletable": false,
    "id": "Nz3GdQB1_Zcu"
   },
   "outputs": [],
   "source": [
    "def number_tracks(day, city):\n",
    "    track_list = df[(df['day']==day)] # Select only the rows from `df` where the value of the variable `day` matches in the `day` column.\n",
    "    track_list = track_list[(track_list['city']==city)] # Select only the rows from `track_list` where the value of the variable `city` matches the `city` column.\n",
    "    track_list_count = track_list['user_id'].count() # Call the row count method for `track_list` grouped by the `user_id` column.\n",
    "    return track_list_count # Return the value `track_list_count` from the function."
   ]
  },
  {
   "cell_type": "code",
   "execution_count": null,
   "metadata": {
    "deletable": false,
    "id": "rJcRATNQ_Zcu"
   },
   "outputs": [
    {
     "data": {
      "text/plain": [
       "15740"
      ]
     },
     "execution_count": 30,
     "metadata": {},
     "output_type": "execute_result"
    }
   ],
   "source": [
    "number_tracks('Monday', 'Moscow') # Number of listens in Moscow on Mondays"
   ]
  },
  {
   "cell_type": "code",
   "execution_count": null,
   "metadata": {
    "deletable": false,
    "id": "hq_ncZ5T_Zcu"
   },
   "outputs": [
    {
     "data": {
      "text/plain": [
       "5614"
      ]
     },
     "execution_count": 31,
     "metadata": {},
     "output_type": "execute_result"
    }
   ],
   "source": [
    "number_tracks('Monday', 'Saint-Petersburg') # Number of listens in Saint Petersburg on Mondays"
   ]
  },
  {
   "cell_type": "code",
   "execution_count": null,
   "metadata": {
    "deletable": false,
    "id": "_NTy2VPU_Zcu"
   },
   "outputs": [
    {
     "data": {
      "text/plain": [
       "11056"
      ]
     },
     "execution_count": 32,
     "metadata": {},
     "output_type": "execute_result"
    }
   ],
   "source": [
    "number_tracks('Wednesday', 'Moscow') # Number of listens in Moscow on Wednesdays"
   ]
  },
  {
   "cell_type": "code",
   "execution_count": null,
   "metadata": {
    "deletable": false,
    "id": "j2y3TAwo_Zcu"
   },
   "outputs": [
    {
     "data": {
      "text/plain": [
       "7003"
      ]
     },
     "execution_count": 33,
     "metadata": {},
     "output_type": "execute_result"
    }
   ],
   "source": [
    "number_tracks('Wednesday', 'Saint-Petersburg') # Number of listens in Saint Petersburg on Wednesdays"
   ]
  },
  {
   "cell_type": "code",
   "execution_count": null,
   "metadata": {
    "deletable": false,
    "id": "vYDw5u_K_Zcu"
   },
   "outputs": [
    {
     "data": {
      "text/plain": [
       "15945"
      ]
     },
     "execution_count": 34,
     "metadata": {},
     "output_type": "execute_result"
    }
   ],
   "source": [
    "number_tracks('Friday', 'Moscow') # Number of listens in Moscow on Fridays"
   ]
  },
  {
   "cell_type": "code",
   "execution_count": null,
   "metadata": {
    "deletable": false,
    "id": "8_yzFtW3_Zcu"
   },
   "outputs": [
    {
     "data": {
      "text/plain": [
       "5895"
      ]
     },
     "execution_count": 35,
     "metadata": {},
     "output_type": "execute_result"
    }
   ],
   "source": [
    "number_tracks('Friday', 'Saint-Petersburg') # Number of listens in Saint Petersburg on Fridays"
   ]
  },
  {
   "cell_type": "code",
   "execution_count": null,
   "metadata": {
    "deletable": false,
    "id": "APAcLpOr_Zcu"
   },
   "outputs": [
    {
     "data": {
      "text/html": [
       "<div>\n",
       "<style scoped>\n",
       "    .dataframe tbody tr th:only-of-type {\n",
       "        vertical-align: middle;\n",
       "    }\n",
       "\n",
       "    .dataframe tbody tr th {\n",
       "        vertical-align: top;\n",
       "    }\n",
       "\n",
       "    .dataframe thead th {\n",
       "        text-align: right;\n",
       "    }\n",
       "</style>\n",
       "<table border=\"1\" class=\"dataframe\">\n",
       "  <thead>\n",
       "    <tr style=\"text-align: right;\">\n",
       "      <th></th>\n",
       "      <th>city</th>\n",
       "      <th>monday</th>\n",
       "      <th>wednesday</th>\n",
       "      <th>friday</th>\n",
       "    </tr>\n",
       "  </thead>\n",
       "  <tbody>\n",
       "    <tr>\n",
       "      <th>0</th>\n",
       "      <td>Moscow</td>\n",
       "      <td>15740</td>\n",
       "      <td>11056</td>\n",
       "      <td>15945</td>\n",
       "    </tr>\n",
       "    <tr>\n",
       "      <th>1</th>\n",
       "      <td>Saint-Petersburg</td>\n",
       "      <td>5614</td>\n",
       "      <td>7003</td>\n",
       "      <td>5895</td>\n",
       "    </tr>\n",
       "  </tbody>\n",
       "</table>\n",
       "</div>"
      ],
      "text/plain": [
       "               city monday wednesday friday\n",
       "0            Moscow  15740     11056  15945\n",
       "1  Saint-Petersburg   5614      7003   5895"
      ]
     },
     "execution_count": 36,
     "metadata": {},
     "output_type": "execute_result"
    }
   ],
   "source": [
    "# Creating a table with the results\n",
    "columns = ['city', 'monday', 'wednesday', 'friday']\n",
    "number_tracks = [['Moscow', '15740', '11056', '15945'], ['Saint-Petersburg', '5614', '7003', '5895']]\n",
    "info = pd.DataFrame(data=number_tracks, columns=columns)\n",
    "\n",
    "# Displaying the table on the screen\n",
    "info"
   ]
  },
  {
   "cell_type": "markdown",
   "metadata": {
    "deletable": false,
    "editable": false,
    "id": "-EgPIHYu_Zcu"
   },
   "source": [
    "**Conclusions**\n",
    "\n",
    "The data shows differences in user behavior:\n",
    "\n",
    "* In Moscow, listening peaks on Monday and Friday, with a noticeable drop on Wednesday.\n",
    "* In Saint Petersburg, users listen more on Wednesdays. Activity on Monday and Friday is roughly equal but lower than on Wednesday.\n",
    "\n",
    "Thus, the data supports the first hypothesis."
   ]
  },
  {
   "cell_type": "markdown",
   "metadata": {
    "deletable": false,
    "editable": false,
    "id": "atZAxtq4_Zcu"
   },
   "source": [
    "### Music at the Beginning and End of the Week"
   ]
  },
  {
   "cell_type": "markdown",
   "metadata": {
    "deletable": false,
    "editable": false,
    "id": "eXrQqXFH_Zcu"
   },
   "source": [
    "According to the second hypothesis, on Monday mornings, different genres dominate in Moscow and Saint Petersburg. Similarly, on Friday evenings, the prevailing genres vary depending on the city."
   ]
  },
  {
   "cell_type": "code",
   "execution_count": null,
   "metadata": {
    "deletable": false,
    "id": "qeaFfM_P_Zcu"
   },
   "outputs": [],
   "source": [
    " # Get the table `moscow_general` by selecting rows from `df` where the value in the `'city'` column equals `'Moscow'`.\n",
    "moscow_general = df[df['city'] == 'Moscow']"
   ]
  },
  {
   "cell_type": "code",
   "execution_count": null,
   "metadata": {
    "deletable": false,
    "id": "ORaVRKto_Zcu"
   },
   "outputs": [],
   "source": [
    "# Get the table `spb_general` by selecting rows from `df` where the value in the `'city'` column equals `'Saint-Petersburg'`.\n",
    "spb_general = df[df['city'] == 'Saint-Petersburg']"
   ]
  },
  {
   "cell_type": "code",
   "execution_count": null,
   "metadata": {
    "deletable": false,
    "id": "laJT9BYl_Zcu"
   },
   "outputs": [],
   "source": [
    "def genre_weekday(df, day, time1, time2):\n",
    "    # Sequential filtering\n",
    "    # Keep only those rows in `genre_df` from `df` where the day equals `day`.\n",
    "    genre_df = df[df['day'] == day]\n",
    "    # Keep only the rows in `genre_df` where the time is less than `time2`.\n",
    "    genre_df = genre_df[genre_df['time'] < time2]\n",
    "    # Keep only the rows in `genre_df` where the time is greater than `time1`.\n",
    "    genre_df = genre_df[genre_df['time'] > time1]\n",
    "    # Group the filtered DataFrame by the column with genre names (`genre`), then count the number of rows for each genre using the `count()` method.\n",
    "    genre_df_grouped = genre_df.groupby('genre')['genre'].count()\n",
    "    # Sort the result in descending order so that the most popular genres appear at the top of the Series.\n",
    "    genre_df_sorted = genre_df_grouped.sort_values(ascending=False)\n",
    "    # Return a Series with the top 10 most popular genres during the specified time interval on the given day.\n",
    "    return genre_df_sorted[:10]"
   ]
  },
  {
   "cell_type": "code",
   "execution_count": null,
   "metadata": {
    "deletable": false,
    "id": "yz7itPUQ_Zcu"
   },
   "outputs": [
    {
     "data": {
      "text/plain": [
       "genre\n",
       "pop            781\n",
       "dance          549\n",
       "electronic     480\n",
       "rock           474\n",
       "hiphop         286\n",
       "ruspop         186\n",
       "world          181\n",
       "rusrap         175\n",
       "alternative    164\n",
       "unknown        161\n",
       "Name: genre, dtype: int64"
      ]
     },
     "execution_count": 42,
     "metadata": {},
     "output_type": "execute_result"
    }
   ],
   "source": [
    "# Call the function for Monday morning in Moscow, using the table `moscow_general` instead of `df`.\n",
    "genre_weekday(moscow_general, 'Monday', '07:00', '11:00')"
   ]
  },
  {
   "cell_type": "code",
   "execution_count": null,
   "metadata": {
    "deletable": false,
    "id": "kwUcHPdy_Zcu"
   },
   "outputs": [
    {
     "data": {
      "text/plain": [
       "genre\n",
       "pop            218\n",
       "dance          182\n",
       "rock           162\n",
       "electronic     147\n",
       "hiphop          80\n",
       "ruspop          64\n",
       "alternative     58\n",
       "rusrap          55\n",
       "jazz            44\n",
       "classical       40\n",
       "Name: genre, dtype: int64"
      ]
     },
     "execution_count": 43,
     "metadata": {},
     "output_type": "execute_result"
    }
   ],
   "source": [
    "# Call the function for Monday morning in Saint Petersburg, using the table `spb_general` instead of `df`.\n",
    "genre_weekday(spb_general, 'Monday', '07:00', '11:00')"
   ]
  },
  {
   "cell_type": "code",
   "execution_count": null,
   "metadata": {
    "deletable": false,
    "id": "EzXVRE1o_Zcu"
   },
   "outputs": [
    {
     "data": {
      "text/plain": [
       "genre\n",
       "pop            713\n",
       "rock           517\n",
       "dance          495\n",
       "electronic     482\n",
       "hiphop         273\n",
       "world          208\n",
       "ruspop         170\n",
       "alternative    163\n",
       "classical      163\n",
       "rusrap         142\n",
       "Name: genre, dtype: int64"
      ]
     },
     "execution_count": 44,
     "metadata": {},
     "output_type": "execute_result"
    }
   ],
   "source": [
    "# Call the function for Friday evening in Moscow.\n",
    "genre_weekday(moscow_general, 'Friday', '17:00', '23:00')"
   ]
  },
  {
   "cell_type": "code",
   "execution_count": null,
   "metadata": {
    "deletable": false,
    "id": "JZaEKu5v_Zcu"
   },
   "outputs": [
    {
     "data": {
      "text/plain": [
       "genre\n",
       "pop            256\n",
       "electronic     216\n",
       "rock           216\n",
       "dance          210\n",
       "hiphop          97\n",
       "alternative     63\n",
       "jazz            61\n",
       "classical       60\n",
       "rusrap          59\n",
       "world           54\n",
       "Name: genre, dtype: int64"
      ]
     },
     "execution_count": 45,
     "metadata": {},
     "output_type": "execute_result"
    }
   ],
   "source": [
    "# Call the function for Friday evening in Saint Petersburg.\n",
    "genre_weekday(spb_general, 'Friday', '17:00', '23:00')"
   ]
  },
  {
   "cell_type": "markdown",
   "metadata": {
    "deletable": false,
    "editable": false,
    "id": "wrCe4MNX_Zcu"
   },
   "source": [
    "**Conclusions**\n",
    "\n",
    "Comparing the top 10 genres on Monday morning leads to the following insights:\n",
    "\n",
    "1. Users in Moscow and Saint Petersburg listen to similar music. The only difference is that the Moscow ranking includes the genre “world” while the Saint Petersburg ranking features jazz and classical.\n",
    "\n",
    "2. In Moscow, there are so many missing values that the `'unknown'` genre ranks tenth among the most popular genres. This indicates that missing data constitute a significant portion of the dataset and threaten the study’s reliability.\n",
    "\n",
    "Friday evening doesn’t change this picture much. Some genres rise slightly, others fall, but overall the top 10 remains the same.\n",
    "\n",
    "Thus, the second hypothesis is only partially confirmed:\n",
    "\n",
    "* Users listen to similar music at the beginning and end of the week.\n",
    "* The difference between Moscow and Saint Petersburg is not very pronounced. Moscow listeners prefer Russian pop music more often, while jazz is more common in Saint Petersburg.\n",
    "\n",
    "However, data gaps cast doubt on this result. In Moscow, the number of missing genre entries is so large that the top 10 ranking might look different if these lost data were available.\n"
   ]
  },
  {
   "cell_type": "markdown",
   "metadata": {
    "deletable": false,
    "editable": false,
    "id": "JolODAqr_Zcu"
   },
   "source": [
    "### Genre Preferences in Moscow and Saint Petersburg\n",
    "\n",
    "Hypothesis: Saint Petersburg is the capital of rap, where this genre is listened to more often than in Moscow. Meanwhile, Moscow is a city of contrasts, where pop music nevertheless predominates."
   ]
  },
  {
   "cell_type": "code",
   "execution_count": null,
   "metadata": {
    "deletable": false,
    "id": "r19lIPke_Zcu"
   },
   "outputs": [],
   "source": [
    "# One line: group the `moscow_general` table by the `'genre'` column, select the `genre` column, count the number of `genre`\n",
    "#  values using the `count()` method, and save the result to `moscow_genres`.\n",
    "# Sorting the resulting Series in descending order and saving it back to `moscow_genres`.\n",
    "moscow_genres = moscow_general.groupby('genre')['genre'].count().sort_values(ascending=False)"
   ]
  },
  {
   "cell_type": "code",
   "execution_count": null,
   "metadata": {
    "deletable": false,
    "id": "WhCSooF8_Zcv"
   },
   "outputs": [
    {
     "data": {
      "text/plain": [
       "genre\n",
       "pop            5892\n",
       "dance          4435\n",
       "rock           3965\n",
       "electronic     3786\n",
       "hiphop         2096\n",
       "classical      1616\n",
       "world          1432\n",
       "alternative    1379\n",
       "ruspop         1372\n",
       "rusrap         1161\n",
       "Name: genre, dtype: int64"
      ]
     },
     "execution_count": 47,
     "metadata": {},
     "output_type": "execute_result"
    }
   ],
   "source": [
    "moscow_genres.head(10) # Viewing the first 10 rows of `moscow_genres`."
   ]
  },
  {
   "cell_type": "code",
   "execution_count": null,
   "metadata": {
    "deletable": false,
    "id": "gluLIpE7_Zcv"
   },
   "outputs": [],
   "source": [
    "# One line: group the `spb_general` table by the `'genre'` column, select the `genre` column, count the number of `genre` \n",
    "#  values using the `count()` method, and save the result to `spb_genres`.\n",
    "# Sorting the resulting Series in descending order and saving it back to `spb_genres`.\n",
    "spb_genres = spb_general.groupby('genre')['genre'].count().sort_values(ascending=False)"
   ]
  },
  {
   "cell_type": "code",
   "execution_count": null,
   "metadata": {
    "deletable": false,
    "id": "uaGJHjVU_Zcv"
   },
   "outputs": [
    {
     "data": {
      "text/plain": [
       "genre\n",
       "pop            2431\n",
       "dance          1932\n",
       "rock           1879\n",
       "electronic     1736\n",
       "hiphop          960\n",
       "alternative     649\n",
       "classical       646\n",
       "rusrap          564\n",
       "ruspop          538\n",
       "world           515\n",
       "Name: genre, dtype: int64"
      ]
     },
     "execution_count": 49,
     "metadata": {},
     "output_type": "execute_result"
    }
   ],
   "source": [
    "spb_genres.head(10) # Viewing the first 10 rows of `spb_genres`."
   ]
  },
  {
   "cell_type": "markdown",
   "metadata": {
    "deletable": false,
    "editable": false,
    "id": "RY51YJYu_Zcv"
   },
   "source": [
    "**Conclusions**"
   ]
  },
  {
   "cell_type": "markdown",
   "metadata": {
    "deletable": false,
    "editable": false,
    "id": "nVhnJEm__Zcv"
   },
   "source": [
    "The hypothesis was partially confirmed:\n",
    "\n",
    "* Pop music is the most popular genre in Moscow, as the hypothesis suggested. Moreover, a related genre—Russian pop music—is also in the top 10.\n",
    "* Contrary to expectations, rap is equally popular in both Moscow and Saint Petersburg.\n"
   ]
  },
  {
   "cell_type": "markdown",
   "metadata": {
    "deletable": false,
    "editable": false,
    "id": "ykKQ0N65_Zcv"
   },
   "source": [
    "## Research Summary"
   ]
  },
  {
   "cell_type": "markdown",
   "metadata": {
    "deletable": false,
    "editable": false,
    "id": "tjUwbHb3_Zcv"
   },
   "source": [
    "You tested three hypotheses and found:\n",
    "\n",
    "1. The day of the week affects user activity differently in Moscow and Saint Petersburg.\n",
    "\n",
    "The first hypothesis is fully confirmed.\n",
    "\n",
    "2. Musical preferences do not change much throughout the week — whether in Moscow or Saint Petersburg. Small differences are noticeable at the start of the week, on Mondays:\n",
    "\n",
    "* In Moscow, the “world” music genre is popular,\n",
    "* In Saint Petersburg, jazz and classical dominate.\n",
    "\n",
    "Thus, the second hypothesis is only partially confirmed. This result might have been different if not for missing data.\n",
    "\n",
    "3. Users in Moscow and Saint Petersburg share more similarities than differences in musical tastes. Contrary to expectations, genre preferences in Saint Petersburg resemble those in Moscow.\n",
    "\n",
    "The third hypothesis is not confirmed. If differences in preferences exist, they are not noticeable in the main user base.\n",
    "\n",
    "**In practice, studies involve statistical hypothesis testing.**\n",
    "It is impossible to draw broad conclusions about all users of a service based on data from just one part without statistical methods.\n",
    "Statistical hypothesis tests will show how reliable these conclusions are given the available data.\n",
    "You will learn about hypothesis testing methods in upcoming topics."
   ]
  }
 ],
 "metadata": {
  "ExecuteTimeLog": [
   {
    "duration": 51,
    "start_time": "2025-03-28T12:30:15.151Z"
   },
   {
    "duration": 3,
    "start_time": "2025-03-28T12:30:18.127Z"
   },
   {
    "duration": 6,
    "start_time": "2025-03-28T12:30:27.908Z"
   },
   {
    "duration": 6,
    "start_time": "2025-03-28T12:30:34.216Z"
   },
   {
    "duration": 5,
    "start_time": "2025-03-28T12:31:11.116Z"
   },
   {
    "duration": 6,
    "start_time": "2025-03-28T12:31:57.765Z"
   },
   {
    "duration": 9,
    "start_time": "2025-03-28T12:32:14.161Z"
   },
   {
    "duration": 2,
    "start_time": "2025-03-28T12:32:16.753Z"
   },
   {
    "duration": 6,
    "start_time": "2025-03-28T12:32:58.117Z"
   },
   {
    "duration": 2,
    "start_time": "2025-03-28T12:34:09.065Z"
   },
   {
    "duration": 408,
    "start_time": "2025-03-28T12:34:23.566Z"
   },
   {
    "duration": 187,
    "start_time": "2025-03-28T12:34:26.793Z"
   },
   {
    "duration": 186,
    "start_time": "2025-03-28T12:34:31.017Z"
   },
   {
    "duration": 17,
    "start_time": "2025-03-28T12:34:38.430Z"
   },
   {
    "duration": 34,
    "start_time": "2025-03-28T12:34:49.174Z"
   },
   {
    "duration": 50,
    "start_time": "2025-03-31T10:24:47.946Z"
   },
   {
    "duration": 6,
    "start_time": "2025-03-31T10:25:05.523Z"
   },
   {
    "duration": 6,
    "start_time": "2025-03-31T10:25:26.438Z"
   },
   {
    "duration": 6,
    "start_time": "2025-03-31T10:25:34.638Z"
   },
   {
    "duration": 6,
    "start_time": "2025-03-31T10:25:57.830Z"
   },
   {
    "duration": 390,
    "start_time": "2025-03-31T10:26:12.826Z"
   },
   {
    "duration": 965,
    "start_time": "2025-03-31T10:26:15.334Z"
   },
   {
    "duration": 9,
    "start_time": "2025-03-31T10:26:23.846Z"
   },
   {
    "duration": 14,
    "start_time": "2025-03-31T10:29:43.159Z"
   },
   {
    "duration": 4,
    "start_time": "2025-03-31T10:30:10.839Z"
   },
   {
    "duration": 28,
    "start_time": "2025-03-31T10:34:08.759Z"
   },
   {
    "duration": 21,
    "start_time": "2025-03-31T11:44:22.532Z"
   },
   {
    "duration": 28,
    "start_time": "2025-03-31T11:44:28.548Z"
   },
   {
    "duration": 31,
    "start_time": "2025-03-31T11:44:31.592Z"
   },
   {
    "duration": 69,
    "start_time": "2025-03-31T11:45:13.543Z"
   },
   {
    "duration": 63,
    "start_time": "2025-03-31T11:45:43.415Z"
   },
   {
    "duration": 65,
    "start_time": "2025-03-31T11:53:42.300Z"
   },
   {
    "duration": 50,
    "start_time": "2025-03-31T12:09:26.303Z"
   },
   {
    "duration": 31,
    "start_time": "2025-03-31T12:09:29.058Z"
   },
   {
    "duration": 13,
    "start_time": "2025-03-31T12:10:07.859Z"
   },
   {
    "duration": 11,
    "start_time": "2025-03-31T12:10:10.389Z"
   },
   {
    "duration": 3,
    "start_time": "2025-03-31T12:10:17.337Z"
   },
   {
    "duration": 17,
    "start_time": "2025-03-31T12:10:23.154Z"
   },
   {
    "duration": 12,
    "start_time": "2025-03-31T12:10:28.263Z"
   },
   {
    "duration": 11,
    "start_time": "2025-03-31T12:10:35.558Z"
   },
   {
    "duration": 10,
    "start_time": "2025-03-31T12:11:03.476Z"
   },
   {
    "duration": 28,
    "start_time": "2025-03-31T12:12:54.341Z"
   },
   {
    "duration": 24,
    "start_time": "2025-03-31T12:13:45.004Z"
   },
   {
    "duration": 13,
    "start_time": "2025-03-31T12:23:21.030Z"
   },
   {
    "duration": 11,
    "start_time": "2025-03-31T12:23:24.286Z"
   },
   {
    "duration": 3,
    "start_time": "2025-03-31T12:23:49.651Z"
   },
   {
    "duration": 165,
    "start_time": "2025-03-31T12:23:52.474Z"
   },
   {
    "duration": 14,
    "start_time": "2025-03-31T12:23:57.962Z"
   },
   {
    "duration": 34,
    "start_time": "2025-03-31T12:24:04.398Z"
   },
   {
    "duration": 2,
    "start_time": "2025-03-31T12:24:09.242Z"
   },
   {
    "duration": 5,
    "start_time": "2025-03-31T12:24:15.086Z"
   },
   {
    "duration": 12,
    "start_time": "2025-03-31T12:24:20.870Z"
   },
   {
    "duration": 4,
    "start_time": "2025-03-31T12:24:23.186Z"
   },
   {
    "duration": 29,
    "start_time": "2025-03-31T12:24:26.350Z"
   },
   {
    "duration": 19,
    "start_time": "2025-03-31T12:24:31.758Z"
   },
   {
    "duration": 27,
    "start_time": "2025-03-31T12:24:36.314Z"
   },
   {
    "duration": 67,
    "start_time": "2025-03-31T12:24:45.326Z"
   },
   {
    "duration": 68,
    "start_time": "2025-03-31T12:24:48.790Z"
   },
   {
    "duration": 56,
    "start_time": "2025-03-31T12:24:51.203Z"
   },
   {
    "duration": 44,
    "start_time": "2025-03-31T12:24:53.974Z"
   },
   {
    "duration": 44,
    "start_time": "2025-03-31T12:37:28.375Z"
   },
   {
    "duration": 13,
    "start_time": "2025-03-31T12:37:40.631Z"
   },
   {
    "duration": 34,
    "start_time": "2025-03-31T12:51:27.985Z"
   },
   {
    "duration": 13,
    "start_time": "2025-03-31T12:52:29.611Z"
   },
   {
    "duration": 12,
    "start_time": "2025-03-31T12:54:23.394Z"
   },
   {
    "duration": 12,
    "start_time": "2025-03-31T12:54:41.202Z"
   },
   {
    "duration": 4,
    "start_time": "2025-03-31T13:24:12.295Z"
   },
   {
    "duration": 4,
    "start_time": "2025-03-31T13:24:15.512Z"
   },
   {
    "duration": 5,
    "start_time": "2025-03-31T13:25:35.062Z"
   },
   {
    "duration": 3,
    "start_time": "2025-03-31T13:25:38.343Z"
   },
   {
    "duration": 4,
    "start_time": "2025-03-31T13:27:19.831Z"
   },
   {
    "duration": 3,
    "start_time": "2025-03-31T13:29:04.762Z"
   },
   {
    "duration": 3,
    "start_time": "2025-03-31T13:33:45.154Z"
   },
   {
    "duration": 3,
    "start_time": "2025-03-31T13:33:47.628Z"
   },
   {
    "duration": 7,
    "start_time": "2025-03-31T13:34:47.320Z"
   },
   {
    "duration": 3,
    "start_time": "2025-03-31T13:34:57.717Z"
   },
   {
    "duration": 167,
    "start_time": "2025-03-31T13:35:00.590Z"
   },
   {
    "duration": 7,
    "start_time": "2025-03-31T13:35:09.682Z"
   },
   {
    "duration": 11,
    "start_time": "2025-03-31T13:35:17.236Z"
   },
   {
    "duration": 33,
    "start_time": "2025-03-31T13:35:22.186Z"
   },
   {
    "duration": 3,
    "start_time": "2025-03-31T13:35:28.073Z"
   },
   {
    "duration": 4,
    "start_time": "2025-03-31T13:35:32.522Z"
   },
   {
    "duration": 12,
    "start_time": "2025-03-31T13:35:35.165Z"
   },
   {
    "duration": 4,
    "start_time": "2025-03-31T13:35:39.553Z"
   },
   {
    "duration": 29,
    "start_time": "2025-03-31T13:35:46.150Z"
   },
   {
    "duration": 18,
    "start_time": "2025-03-31T13:35:50.462Z"
   },
   {
    "duration": 28,
    "start_time": "2025-03-31T13:35:52.815Z"
   },
   {
    "duration": 67,
    "start_time": "2025-03-31T13:35:59.170Z"
   },
   {
    "duration": 80,
    "start_time": "2025-03-31T13:36:01.458Z"
   },
   {
    "duration": 59,
    "start_time": "2025-03-31T13:36:03.920Z"
   },
   {
    "duration": 44,
    "start_time": "2025-03-31T13:36:08.516Z"
   },
   {
    "duration": 12,
    "start_time": "2025-03-31T13:36:15.678Z"
   },
   {
    "duration": 42,
    "start_time": "2025-03-31T13:36:18.094Z"
   },
   {
    "duration": 13,
    "start_time": "2025-03-31T13:36:27.957Z"
   },
   {
    "duration": 11,
    "start_time": "2025-03-31T13:36:32.734Z"
   },
   {
    "duration": 3,
    "start_time": "2025-03-31T13:36:35.453Z"
   },
   {
    "duration": 7,
    "start_time": "2025-03-31T13:36:39.881Z"
   },
   {
    "duration": 17,
    "start_time": "2025-03-31T13:36:56.630Z"
   },
   {
    "duration": 16,
    "start_time": "2025-03-31T13:38:23.411Z"
   },
   {
    "duration": 16,
    "start_time": "2025-03-31T13:38:25.938Z"
   },
   {
    "duration": 15,
    "start_time": "2025-03-31T13:38:28.590Z"
   },
   {
    "duration": 19,
    "start_time": "2025-03-31T13:38:31.912Z"
   },
   {
    "duration": 29,
    "start_time": "2025-03-31T13:38:34.551Z"
   },
   {
    "duration": 49,
    "start_time": "2025-03-31T23:35:48.452Z"
   },
   {
    "duration": 357,
    "start_time": "2025-03-31T23:35:56.556Z"
   },
   {
    "duration": 18,
    "start_time": "2025-03-31T23:36:07.124Z"
   },
   {
    "duration": 10,
    "start_time": "2025-03-31T23:39:00.761Z"
   },
   {
    "duration": 27,
    "start_time": "2025-03-31T23:39:47.281Z"
   },
   {
    "duration": 3,
    "start_time": "2025-03-31T23:39:58.387Z"
   },
   {
    "duration": 9,
    "start_time": "2025-03-31T23:40:08.455Z"
   },
   {
    "duration": 3,
    "start_time": "2025-03-31T23:40:14.134Z"
   },
   {
    "duration": 9,
    "start_time": "2025-03-31T23:40:20.103Z"
   },
   {
    "duration": 7,
    "start_time": "2025-03-31T23:40:32.115Z"
   },
   {
    "duration": 3,
    "start_time": "2025-03-31T23:40:44.598Z"
   },
   {
    "duration": 447,
    "start_time": "2025-03-31T23:40:47.697Z"
   },
   {
    "duration": 11,
    "start_time": "2025-03-31T23:40:52.593Z"
   },
   {
    "duration": 33,
    "start_time": "2025-03-31T23:40:59.353Z"
   },
   {
    "duration": 4,
    "start_time": "2025-03-31T23:41:18.590Z"
   },
   {
    "duration": 12,
    "start_time": "2025-03-31T23:41:21.961Z"
   },
   {
    "duration": 4,
    "start_time": "2025-03-31T23:41:31.081Z"
   },
   {
    "duration": 29,
    "start_time": "2025-03-31T23:41:41.362Z"
   },
   {
    "duration": 21,
    "start_time": "2025-03-31T23:41:46.645Z"
   },
   {
    "duration": 27,
    "start_time": "2025-03-31T23:41:50.693Z"
   },
   {
    "duration": 69,
    "start_time": "2025-03-31T23:41:56.439Z"
   },
   {
    "duration": 81,
    "start_time": "2025-03-31T23:42:02.673Z"
   },
   {
    "duration": 60,
    "start_time": "2025-03-31T23:42:28.746Z"
   },
   {
    "duration": 44,
    "start_time": "2025-03-31T23:42:32.668Z"
   },
   {
    "duration": 12,
    "start_time": "2025-03-31T23:42:39.250Z"
   },
   {
    "duration": 43,
    "start_time": "2025-03-31T23:42:41.885Z"
   },
   {
    "duration": 12,
    "start_time": "2025-03-31T23:45:35.232Z"
   },
   {
    "duration": 11,
    "start_time": "2025-03-31T23:45:40.464Z"
   },
   {
    "duration": 3,
    "start_time": "2025-03-31T23:45:45.565Z"
   },
   {
    "duration": 16,
    "start_time": "2025-03-31T23:45:50.815Z"
   },
   {
    "duration": 17,
    "start_time": "2025-03-31T23:45:53.550Z"
   },
   {
    "duration": 15,
    "start_time": "2025-03-31T23:45:59.092Z"
   },
   {
    "duration": 15,
    "start_time": "2025-03-31T23:46:05.159Z"
   },
   {
    "duration": 17,
    "start_time": "2025-03-31T23:46:08.924Z"
   },
   {
    "duration": 16,
    "start_time": "2025-03-31T23:46:10.536Z"
   },
   {
    "duration": 9,
    "start_time": "2025-03-31T23:46:31.191Z"
   },
   {
    "duration": 11,
    "start_time": "2025-03-31T23:51:34.661Z"
   },
   {
    "duration": 9,
    "start_time": "2025-03-31T23:52:33.362Z"
   },
   {
    "duration": 14,
    "start_time": "2025-04-01T00:48:32.314Z"
   },
   {
    "duration": 10,
    "start_time": "2025-04-01T00:48:34.761Z"
   },
   {
    "duration": 4,
    "start_time": "2025-04-01T00:48:36.695Z"
   },
   {
    "duration": 16,
    "start_time": "2025-04-01T00:48:38.918Z"
   },
   {
    "duration": 11,
    "start_time": "2025-04-01T00:48:40.329Z"
   },
   {
    "duration": 19,
    "start_time": "2025-04-01T00:48:41.493Z"
   },
   {
    "duration": 13,
    "start_time": "2025-04-01T00:48:42.439Z"
   },
   {
    "duration": 9,
    "start_time": "2025-04-01T00:48:45.503Z"
   },
   {
    "duration": 4,
    "start_time": "2025-04-01T00:48:47.142Z"
   },
   {
    "duration": 6,
    "start_time": "2025-04-01T00:48:49.180Z"
   },
   {
    "duration": 5,
    "start_time": "2025-04-01T00:48:50.669Z"
   }
  ],
  "celltoolbar": "Отсутствует",
  "colab": {
   "collapsed_sections": [
    "E0vqbgi9ay0H",
    "VUC88oWjTJw2"
   ],
   "provenance": []
  },
  "kernelspec": {
   "display_name": "Python 3 (ipykernel)",
   "language": "python",
   "name": "python3"
  },
  "language_info": {
   "codemirror_mode": {
    "name": "ipython",
    "version": 3
   },
   "file_extension": ".py",
   "mimetype": "text/x-python",
   "name": "python",
   "nbconvert_exporter": "python",
   "pygments_lexer": "ipython3",
   "version": "3.9.5"
  },
  "toc": {
   "base_numbering": 1,
   "nav_menu": {
    "height": "215px",
    "width": "403px"
   },
   "number_sections": true,
   "sideBar": true,
   "skip_h1_title": true,
   "title_cell": "Table of Contents",
   "title_sidebar": "Contents",
   "toc_cell": false,
   "toc_position": {
    "height": "calc(100% - 180px)",
    "left": "10px",
    "top": "150px",
    "width": "285.825px"
   },
   "toc_section_display": true,
   "toc_window_display": false
  }
 },
 "nbformat": 4,
 "nbformat_minor": 1
}
